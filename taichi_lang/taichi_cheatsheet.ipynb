{
 "cells": [
  {
   "cell_type": "markdown",
   "id": "26d0df36",
   "metadata": {},
   "source": [
    "# Taichi Lang Cheat Sheet\n",
    "\n",
    "### ⚡️ Handy reminders\n",
    "- 🔧 Initialise the runtime once, pick a backend, and enable profilers up front.\n",
    "- 🧊 Fields live on Taichi’s runtime—treat them as your GPU/CPU-resident arrays.\n",
    "- 🧩 Kernels stay flexible by taking fields as `ti.template()` parameters so you can reuse them across layouts.\n",
    "- 📈 Profiling and atomics are built-in; you can inspect hotspots and resolve data races without leaving Python.\n",
    "\n",
    "Run the cells top to bottom; copy the snippets into your own projects as needed.\n",
    "\n",
    "## Installation and import\n"
   ]
  },
  {
   "cell_type": "code",
   "execution_count": null,
   "id": "aac3d2bb",
   "metadata": {},
   "outputs": [],
   "source": [
    "!pip install taichi"
   ]
  },
  {
   "cell_type": "code",
   "execution_count": null,
   "id": "2764d299",
   "metadata": {},
   "outputs": [],
   "source": [
    "import taichi as ti\n",
    "import numpy as np\n",
    "\n",
    "%matplotlib widget\n"
   ]
  },
  {
   "cell_type": "markdown",
   "id": "f7a30ea3",
   "metadata": {},
   "source": [
    "### 🔌 Initialise once\n",
    "Pick the preferred backend and enable the kernel profiler so you can inspect hotspots after a run."
   ]
  },
  {
   "cell_type": "code",
   "execution_count": null,
   "id": "c805b19d",
   "metadata": {},
   "outputs": [],
   "source": [
    "ti.init(arch=ti.gpu, kernel_profiler=True, default_fp=ti.f32)"
   ]
  },
  {
   "cell_type": "markdown",
   "id": "74681d93",
   "metadata": {},
   "source": [
    "### 🧱 Fields and data types\n",
    "Define scalar/vector fields, integer masks, and particle buffers directly on the Taichi runtime. They are strongly typed, so decide precision up front."
   ]
  },
  {
   "cell_type": "code",
   "execution_count": null,
   "id": "642cca68",
   "metadata": {},
   "outputs": [],
   "source": [
    "grid_shape = (64, 64)\n",
    "nx, ny = grid_shape\n",
    "num_particles = 4096\n",
    "\n",
    "scalar_grid = ti.field(dtype=ti.f32, shape=grid_shape)\n",
    "scratch_grid = ti.field(dtype=ti.f32, shape=grid_shape)\n",
    "vector_grid = ti.Vector.field(2, dtype=ti.f32, shape=grid_shape)\n",
    "mask_grid = ti.field(dtype=ti.i32, shape=grid_shape)\n",
    "particle_positions = ti.Vector.field(2, dtype=ti.f32, shape=num_particles)\n",
    "particle_weights = ti.field(dtype=ti.f32, shape=num_particles)\n",
    "\n",
    "print('scalar dtype:', scalar_grid.dtype)\n",
    "print('vector dtype:', vector_grid.dtype, 'components:', vector_grid.n)\n",
    "print('particle count:', num_particles)\n"
   ]
  },
  {
   "cell_type": "markdown",
   "id": "ecc4821f",
   "metadata": {},
   "source": [
    "### ♻️ Template helper funcs\n",
    "Device helpers can also accept `ti.template()` arguments, which lets them operate on any compatible field or scalar without recompiling."
   ]
  },
  {
   "cell_type": "code",
   "execution_count": null,
   "id": "080778a2",
   "metadata": {},
   "outputs": [],
   "source": [
    "@ti.func\n",
    "def clamp_vec(v: ti.template(), lower: ti.template(), upper: ti.template()):\n",
    "    return ti.min(ti.max(v, lower), upper)\n",
    "\n",
    "@ti.func\n",
    "def laplacian(field: ti.template(), coord: ti.template()):\n",
    "    i = coord[0]\n",
    "    j = coord[1]\n",
    "    return (\n",
    "        -4.0 * field[i, j]\n",
    "        + field[i + 1, j]\n",
    "        + field[i - 1, j]\n",
    "        + field[i, j + 1]\n",
    "        + field[i, j - 1]\n",
    "    )\n",
    "\n",
    "@ti.func\n",
    "def gradient(field: ti.template(), coord: ti.template(), spacing: ti.template()):\n",
    "    i = coord[0]\n",
    "    j = coord[1]\n",
    "    gx = (field[i + 1, j] - field[i - 1, j]) * 0.5 / spacing\n",
    "    gy = (field[i, j + 1] - field[i, j - 1]) * 0.5 / spacing\n",
    "    return ti.Vector([gx, gy])\n"
   ]
  },
  {
   "cell_type": "markdown",
   "id": "07a539d5",
   "metadata": {},
   "source": [
    "### 🧮 Reusable kernels\n",
    "Use `ti.template()` parameters so the same kernel can work with different fields or constants without rewriting anything."
   ]
  },
  {
   "cell_type": "code",
   "execution_count": null,
   "id": "0c04a024",
   "metadata": {},
   "outputs": [],
   "source": [
    "@ti.kernel\n",
    "def fill(field: ti.template(), value: ti.template()):\n",
    "    for I in ti.grouped(field):\n",
    "        field[I] = value\n",
    "\n",
    "@ti.kernel\n",
    "def add_ramp(field: ti.template(), axis: ti.template(), scale: ti.template()):\n",
    "    for I in ti.grouped(field):\n",
    "        field[I] += scale * I[axis]\n",
    "\n",
    "@ti.kernel\n",
    "def copy_field(src: ti.template(), dst: ti.template()):\n",
    "    for I in ti.grouped(src):\n",
    "        dst[I] = src[I]\n",
    "\n",
    "@ti.kernel\n",
    "def write_mask_from_threshold(field: ti.template(), mask: ti.template(), cut: ti.template()):\n",
    "    for I in ti.grouped(field):\n",
    "        mask[I] = int(field[I] > cut)\n"
   ]
  },
  {
   "cell_type": "markdown",
   "id": "e4559ee0",
   "metadata": {},
   "source": [
    "#### ✅ Template kernels in action\n",
    "Fill a grid, add a ramp along one axis, copy it elsewhere, and flag cells above a threshold."
   ]
  },
  {
   "cell_type": "code",
   "execution_count": null,
   "id": "08672fd9",
   "metadata": {},
   "outputs": [],
   "source": [
    "fill(scalar_grid, 0.0)\n",
    "add_ramp(scalar_grid, 1, 0.01)\n",
    "copy_field(scalar_grid, scratch_grid)\n",
    "write_mask_from_threshold(scalar_grid, mask_grid, 0.4)\n",
    "\n",
    "sample_row = 20\n",
    "print('ramp sample (row 20):', np.round(scalar_grid.to_numpy()[sample_row, :8], 3))\n",
    "print('mask hits in row 20:', int(mask_grid.to_numpy()[sample_row].sum()))\n"
   ]
  },
  {
   "cell_type": "markdown",
   "id": "950d4249",
   "metadata": {},
   "source": [
    "### 🌀 Complex kernel example\n",
    "Interior-only iterators plus helper funcs let you build more advanced stencils while keeping the signature reusable."
   ]
  },
  {
   "cell_type": "code",
   "execution_count": null,
   "id": "cc5ebedf",
   "metadata": {},
   "outputs": [],
   "source": [
    "@ti.kernel\n",
    "def diffuse_step(src: ti.template(), dst: ti.template(), alpha: ti.template(), spacing: ti.template()):\n",
    "    nx_local = ti.static(src.shape[0])\n",
    "    ny_local = ti.static(src.shape[1])\n",
    "    for i, j in ti.ndrange((1, nx_local - 1), (1, ny_local - 1)):\n",
    "        lap = laplacian(src, ti.Vector([i, j]))\n",
    "        dst[i, j] = src[i, j] + alpha * lap * spacing\n",
    "\n",
    "@ti.kernel\n",
    "def advect_gradient(src: ti.template(), dst: ti.template(), spacing: ti.template(), strength: ti.template()):\n",
    "    nx_local = ti.static(src.shape[0])\n",
    "    ny_local = ti.static(src.shape[1])\n",
    "    for i, j in ti.ndrange((1, nx_local - 1), (1, ny_local - 1)):\n",
    "        grad = gradient(src, ti.Vector([i, j]), spacing)\n",
    "        dst[i, j] = grad * strength\n"
   ]
  },
  {
   "cell_type": "markdown",
   "id": "e1074b7f",
   "metadata": {},
   "source": [
    "#### 🎯 Complex kernel demo\n",
    "Diffuse a ramped field a few times, compute its gradient, and peek at a tiny neighbourhood."
   ]
  },
  {
   "cell_type": "code",
   "execution_count": null,
   "id": "95e34fed",
   "metadata": {},
   "outputs": [],
   "source": [
    "fill(scalar_grid, 0.0)\n",
    "add_ramp(scalar_grid, 0, 0.02)\n",
    "copy_field(scalar_grid, scratch_grid)\n",
    "\n",
    "for _ in range(8):\n",
    "    diffuse_step(scratch_grid, scalar_grid, 0.15, 1.0)\n",
    "    copy_field(scalar_grid, scratch_grid)\n",
    "\n",
    "advect_gradient(scalar_grid, vector_grid, 1.0, 0.6)\n",
    "local_patch = scalar_grid.to_numpy()[28:32, 28:32]\n",
    "local_grad = vector_grid.to_numpy()[28:32, 28:32]\n",
    "print('scalar patch:', np.round(local_patch, 4))\n",
    "print('gradient norms:', np.round(np.linalg.norm(local_grad, axis=-1), 4))\n"
   ]
  },
  {
   "cell_type": "markdown",
   "id": "05a6ee5c",
   "metadata": {},
   "source": [
    "### 🔩 Atomic operations\n",
    "Race-free updates come from `ti.atomic_add`. Here we scatter particle weights into a grid histogram."
   ]
  },
  {
   "cell_type": "code",
   "execution_count": null,
   "id": "341c594f",
   "metadata": {},
   "outputs": [],
   "source": [
    "@ti.kernel\n",
    "def seed_particles(pos: ti.template(), weights: ti.template(), spread: ti.template()):\n",
    "    for i in pos:\n",
    "        xi = ti.random(ti.f32) * (nx - 1)\n",
    "        yi = ti.random(ti.f32) * (ny - 1)\n",
    "        pos[i] = ti.Vector([xi, yi])\n",
    "        weights[i] = 1.0 + ti.random(ti.f32) * spread\n",
    "\n",
    "@ti.kernel\n",
    "def jitter_particles(pos: ti.template(), strength: ti.template()):\n",
    "    upper = ti.Vector([nx - 1.001, ny - 1.001])\n",
    "    for i in pos:\n",
    "        offset = ti.Vector([ti.random(ti.f32) - 0.5, ti.random(ti.f32) - 0.5]) * strength\n",
    "        pos[i] = clamp_vec(pos[i] + offset, ti.Vector([0.0, 0.0]), upper)\n",
    "\n",
    "@ti.kernel\n",
    "def scatter_to_grid(pos: ti.template(), weights: ti.template(), grid: ti.template()):\n",
    "    for i in pos:\n",
    "        cell = ti.cast(pos[i], ti.i32)\n",
    "        cell = clamp_vec(cell, ti.Vector([0, 0]), ti.Vector([nx - 1, ny - 1]))\n",
    "        ti.atomic_add(grid[cell[0], cell[1]], weights[i])\n"
   ]
  },
  {
   "cell_type": "markdown",
   "id": "e6086fad",
   "metadata": {},
   "source": [
    "#### 🛠️ Atomic scatter demo\n",
    "Seed particles, jitter them a little, and accumulate their weights into a histogram grid using `ti.atomic_add`."
   ]
  },
  {
   "cell_type": "code",
   "execution_count": null,
   "id": "30c62939",
   "metadata": {},
   "outputs": [],
   "source": [
    "fill(scratch_grid, 0.0)\n",
    "seed_particles(particle_positions, particle_weights, 1.0)\n",
    "for step in range(3):\n",
    "    jitter_particles(particle_positions, 1.0)\n",
    "    scatter_to_grid(particle_positions, particle_weights, scratch_grid)\n",
    "\n",
    "hist = scratch_grid.to_numpy()\n",
    "print('histogram min/max:', float(hist.min()), float(hist.max()))\n",
    "print('non-zero bins:', int((hist > 0).sum()))\n"
   ]
  },
  {
   "cell_type": "markdown",
   "id": "51c1da47",
   "metadata": {},
   "source": [
    "### 📊 Profiling walkthrough\n",
    "Clear the profiler, run a quick pipeline, then print the timing table to spot hotspots."
   ]
  },
  {
   "cell_type": "code",
   "execution_count": null,
   "id": "9aef9705",
   "metadata": {},
   "outputs": [],
   "source": [
    "ti.profiler.clear_kernel_profiler_info()\n",
    "\n",
    "fill(scalar_grid, 0.0)\n",
    "add_ramp(scalar_grid, 0, 0.01)\n",
    "copy_field(scalar_grid, scratch_grid)\n",
    "\n",
    "for _ in range(12):\n",
    "    diffuse_step(scratch_grid, scalar_grid, 0.18, 1.0)\n",
    "    copy_field(scalar_grid, scratch_grid)\n",
    "\n",
    "advect_gradient(scalar_grid, vector_grid, 1.0, 0.4)\n",
    "\n",
    "fill(mask_grid, 0)\n",
    "write_mask_from_threshold(scalar_grid, mask_grid, 0.05)\n",
    "\n",
    "fill(scratch_grid, 0.0)\n",
    "seed_particles(particle_positions, particle_weights, 1.5)\n",
    "for _ in range(4):\n",
    "    jitter_particles(particle_positions, 1.2)\n",
    "    scatter_to_grid(particle_positions, particle_weights, scratch_grid)\n",
    "\n",
    "np_scalar = scalar_grid.to_numpy()\n",
    "np_mask = mask_grid.to_numpy()\n",
    "np_mag = np.linalg.norm(vector_grid.to_numpy(), axis=-1)\n",
    "print('scalar range:', float(np_scalar.min()), float(np_scalar.max()))\n",
    "print('mask coverage:', np_mask.sum())\n",
    "print('gradient max magnitude:', float(np_mag.max()))\n",
    "\n",
    "print('Profiler results:')\n",
    "ti.profiler.print_kernel_profiler_info()\n"
   ]
  },
  {
   "cell_type": "code",
   "execution_count": null,
   "id": "644ab751-112f-4f1b-bdfb-9cdbe6a202c1",
   "metadata": {},
   "outputs": [],
   "source": []
  },
  {
   "cell_type": "code",
   "execution_count": null,
   "id": "eb339bff-a457-419f-afb2-f8149a5be430",
   "metadata": {},
   "outputs": [],
   "source": []
  },
  {
   "cell_type": "code",
   "execution_count": null,
   "id": "baef8ae9-a211-4407-b237-0d6b9d3adb16",
   "metadata": {},
   "outputs": [],
   "source": []
  }
 ],
 "metadata": {
  "kernelspec": {
   "display_name": "Python 3 (ipykernel)",
   "language": "python",
   "name": "python3"
  },
  "language_info": {
   "codemirror_mode": {
    "name": "ipython",
    "version": 3
   },
   "file_extension": ".py",
   "mimetype": "text/x-python",
   "name": "python",
   "nbconvert_exporter": "python",
   "pygments_lexer": "ipython3",
   "version": "3.11.10"
  }
 },
 "nbformat": 4,
 "nbformat_minor": 5
}
