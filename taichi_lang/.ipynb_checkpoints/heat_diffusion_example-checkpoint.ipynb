{
 "cells": [
  {
   "cell_type": "markdown",
   "id": "d8738389-e7eb-4474-959f-91d9f14c3a3b",
   "metadata": {},
   "source": [
    "# First example into taichi lang\n",
    "\n",
    "### ⚡️ When Taichi shines\n",
    "- 🚀 Accelerate Python loops with GPU/CPU parallelism without rewriting everything in C++.\n",
    "- 🧳 Ship the same code across Windows, Linux, macOS, NVIDIA, AMD, or plain CPUs—Taichi handles the backend juggling.\n",
    "- 🧩 Model physics or custom numerical kernels that don’t fit \"NumPy, but faster\" libraries like CuPy or JAX.\n",
    "- 😈 You lost a bet with me and now you owe Taichi a try.\n",
    "\n",
    "**⚠️ Heads-up:** Taichi isn’t at its happiest inside notebooks; avoid re-importing it mid-session or you might need to restart the kernel. For production scripts, run them as plain Python files for rock-solid stability.\n",
    "\n",
    "## Installation and import\n"
   ]
  },
  {
   "cell_type": "code",
   "execution_count": null,
   "id": "5def8f6a-c4c1-4ef6-82f4-2e6a69b05d1b",
   "metadata": {},
   "outputs": [],
   "source": [
    "!pip install taichi"
   ]
  },
  {
   "cell_type": "code",
   "execution_count": null,
   "id": "4ff6bdcc-dcdc-4f47-ad18-927885dd8b50",
   "metadata": {},
   "outputs": [],
   "source": [
    "import taichi as ti\n",
    "import numpy as np\n",
    "import matplotlib.pyplot as plt\n",
    "import time\n",
    "\n",
    "\n",
    "%matplotlib widget"
   ]
  },
  {
   "cell_type": "markdown",
   "id": "f1326f36-a038-4e50-a812-80aee7e8d530",
   "metadata": {},
   "source": [
    "### 🔌 Kick off the Taichi runtime\n",
    "\n",
    "- `ti.init(arch=ti.gpu)` politely asks for a GPU; Taichi falls back to the fastest CPU backend if none is available.\n",
    "- Kernels are JIT-compiled the first time you call them and then cached, so tweak-and-rerun cycles stay instant.\n",
    "- Init happens once per interpreter session—restart the notebook if you need different precision, debugging flags, or a fresh runtime."
   ]
  },
  {
   "cell_type": "code",
   "execution_count": null,
   "id": "474cad45-5fee-4635-a1e0-58a7eb113c8e",
   "metadata": {},
   "outputs": [],
   "source": [
    "ti.init(ti.gpu)"
   ]
  },
  {
   "cell_type": "markdown",
   "id": "7caec057-c6ba-44c1-a112-10d019690514",
   "metadata": {},
   "source": [
    "### 🧊 Fields = simulation memory\n",
    "\n",
    "- Fields live inside Taichi’s runtime, not regular Python RAM, so kernels can read/write them at high speed on CPU or GPU.\n",
    "- Declare them up front (`ti.field(dtype=ti.f32, shape=(nx, ny))`), then bridge to NumPy with `from_numpy` / `to_numpy` when you need to inspect or seed data.\n",
    "- Because the data persists between kernel launches, fields make it easy to store simulation state, buffers, and scratch space."
   ]
  },
  {
   "cell_type": "code",
   "execution_count": null,
   "id": "815c91a1-50f2-4900-89a4-5a959f8582e2",
   "metadata": {},
   "outputs": [],
   "source": [
    "nx, ny = 2048, 2048\n",
    "boundary_temperature = 0.0\n",
    "simulation_dt = 0.05\n",
    "steps_per_frame = 100\n",
    "frames = 12000\n",
    "\n",
    "# Taichi fields that hold our state\n",
    "temperature = ti.field(dtype=ti.f32, shape=(nx, ny))\n",
    "temperature_next = ti.field(dtype=ti.f32, shape=(nx, ny))\n",
    "conductivity = ti.field(dtype=ti.f32, shape=(nx, ny))\n",
    "heat_source = ti.field(dtype=ti.f32, shape=(nx, ny))\n",
    "\n",
    "# Regular NumPy workbench for initial conditions\n",
    "x = np.linspace(0.0, 1.0, nx, dtype=np.float32)\n",
    "y = np.linspace(0.0, 1.0, ny, dtype=np.float32)\n",
    "X, Y = np.meshgrid(x, y, indexing='ij')\n",
    "\n",
    "cond_init = 0.35 + 0.65 * np.sin(3 * np.pi * X) * np.sin(2 * np.pi * Y)\n",
    "cond_init += 0.25 * np.exp(-((X - 0.75) ** 2 + (Y - 0.25) ** 2) / 0.01)\n",
    "cond_init = np.clip(cond_init, 0.1, None).astype(np.float32)\n",
    "\n",
    "temp_init = 0.05 * np.exp(-((X - 0.25) ** 2 + (Y - 0.75) ** 2) / 0.005)\n",
    "\n",
    "gaussian_sources = [\n",
    "    (0.35, 0.35, 1.8),\n",
    "    (0.7, 0.6, 1.4),\n",
    "    (0.5, 0.2, 1.0),\n",
    "]\n",
    "heat_init = np.zeros((nx, ny), dtype=np.float32)\n",
    "for cx, cy, strength in gaussian_sources:\n",
    "    heat_init += strength * np.exp(-((X - cx) ** 2 + (Y - cy) ** 2) / 0.0025)\n",
    "\n",
    "# Push data to Taichi fields\n",
    "temperature.from_numpy(temp_init.astype(np.float32))\n",
    "conductivity.from_numpy(cond_init)\n",
    "heat_source.from_numpy(heat_init)\n",
    "\n",
    "# Quick glance at the initial state\n",
    "fig, axes = plt.subplots(1, 3, figsize=(11, 3.3), constrained_layout=True)\n",
    "plots = [\n",
    "    (temp_init.T, 'inferno', 'Initial temperature'),\n",
    "    (cond_init.T, 'viridis', 'Conductivity'),\n",
    "    (heat_init.T, 'magma', 'Heat injection'),\n",
    "]\n",
    "for ax, (data, cmap, title) in zip(axes, plots):\n",
    "    im = ax.imshow(data, origin='lower', cmap=cmap)\n",
    "    ax.set_title(title)\n",
    "    ax.set_xticks([])\n",
    "    ax.set_yticks([])\n",
    "    fig.colorbar(im, ax=ax, fraction=0.046, pad=0.04)\n"
   ]
  },
  {
   "cell_type": "markdown",
   "id": "c8bacb1c-a3f7-4811-a65d-14da4ef1fa4d",
   "metadata": {},
   "source": [
    "### ⚙️ Kernels vs. funcs\n",
    "\n",
    "- `@ti.kernel` turns a Python function into parallel Taichi code—call it like Python, watch it launch across your device.\n",
    "- `@ti.func` is an inlined helper you can reuse inside kernels for tidy math blocks without extra overhead.\n",
    "\n",
    "### ♨️ Demo idea\n",
    "We evolve the 2-D heat equation with conductivity that changes across the grid and a few spicy Gaussian heaters. Cool boundaries keep the whole plate from melting, so you can clearly see how the conductivity channels guide the temperature flow."
   ]
  },
  {
   "cell_type": "code",
   "execution_count": null,
   "id": "fe63b4ac-bfcf-466c-a4da-7261d3649bb2",
   "metadata": {},
   "outputs": [],
   "source": [
    "inv_dx2 = 1.0  # we work on a unit grid for clarity\n",
    "\n",
    "@ti.func\n",
    "def is_boundary(i, j):\n",
    "    return (i == 0) or (j == 0) or (i == nx - 1) or (j == ny - 1)\n",
    "\n",
    "@ti.func\n",
    "def thermal_flux(i, j):\n",
    "    center = temperature[i, j]\n",
    "    flux = 0.0\n",
    "    if i > 0:\n",
    "        k_left = 0.5 * (conductivity[i, j] + conductivity[i - 1, j])\n",
    "        flux += k_left * (temperature[i - 1, j] - center)\n",
    "    if i < nx - 1:\n",
    "        k_right = 0.5 * (conductivity[i, j] + conductivity[i + 1, j])\n",
    "        flux += k_right * (temperature[i + 1, j] - center)\n",
    "    if j > 0:\n",
    "        k_down = 0.5 * (conductivity[i, j] + conductivity[i, j - 1])\n",
    "        flux += k_down * (temperature[i, j - 1] - center)\n",
    "    if j < ny - 1:\n",
    "        k_up = 0.5 * (conductivity[i, j] + conductivity[i, j + 1])\n",
    "        flux += k_up * (temperature[i, j + 1] - center)\n",
    "    return flux * inv_dx2\n",
    "\n",
    "@ti.kernel\n",
    "def diffuse_step(dt: ti.f32):\n",
    "    for i, j in temperature:\n",
    "        if is_boundary(i, j):\n",
    "            temperature_next[i, j] = boundary_temperature\n",
    "        else:\n",
    "            diffusion = thermal_flux(i, j)\n",
    "            temperature_next[i, j] = temperature[i, j] + dt * (diffusion + heat_source[i, j])\n",
    "\n",
    "@ti.kernel\n",
    "def swap_buffers():\n",
    "    for i, j in temperature:\n",
    "        temperature[i, j] = temperature_next[i, j]"
   ]
  },
  {
   "cell_type": "markdown",
   "id": "6ad1db0d-9fa5-41d0-8b75-7c4150e0099b",
   "metadata": {},
   "source": [
    "### ▶️ Driving the sim\n",
    "Each frame we run a few diffusion steps, pull the field back to NumPy, and refresh the colormap. With `ipympl` the figure updates live in-place, so you can orbit the widget, zoom, and read the flux story in real time."
   ]
  },
  {
   "cell_type": "code",
   "execution_count": null,
   "id": "2a19b889-0a32-4b7b-aa12-9ac17a68405d",
   "metadata": {},
   "outputs": [],
   "source": [
    "fig = plt.figure(figsize=(12, 12))\n",
    "handle = display(fig, display_id=True)\n",
    "\n",
    "\n",
    "def render_frame(array, t_value):\n",
    "    fig.clf()\n",
    "    ax = fig.add_subplot(1, 1, 1)\n",
    "    vmax = max(0.2, float(array.max()))\n",
    "    heat_map = ax.imshow(array, origin='lower', cmap='inferno', vmin=0.0, vmax=vmax)\n",
    "    ax.set_title(f'Heat diffusion: t = {t_value:.2f}')\n",
    "    ax.set_xticks([])\n",
    "    ax.set_yticks([])\n",
    "    fig.colorbar(heat_map, ax=ax, fraction=0.046, pad=0.04, label='Temperature')\n",
    "    fig.canvas.toolbar_position = 'bottom'\n",
    "    fig.canvas.draw()\n",
    "\n",
    "\n",
    "render_frame(temperature.to_numpy().T, 0.0)\n",
    "handle.update(fig)\n",
    "\n",
    "for frame in range(frames):\n",
    "    for _ in range(steps_per_frame):\n",
    "        diffuse_step(simulation_dt)\n",
    "        swap_buffers()\n",
    "    ti.sync()\n",
    "\n",
    "    current_time = (frame + 1) * steps_per_frame * simulation_dt\n",
    "    render_frame(temperature.to_numpy().T, current_time)\n",
    "    handle.update(fig)\n",
    "    time.sleep(0.1)\n",
    "    # plt.pause(0.001)"
   ]
  },
  {
   "cell_type": "code",
   "execution_count": null,
   "id": "7ae499ed-bbcf-4ac4-b179-3981ec05f5b8",
   "metadata": {},
   "outputs": [],
   "source": []
  },
  {
   "cell_type": "code",
   "execution_count": null,
   "id": "fc8bcbaa-67c5-43b3-8607-3d985b50f285",
   "metadata": {},
   "outputs": [],
   "source": []
  }
 ],
 "metadata": {
  "kernelspec": {
   "display_name": "Python 3 (ipykernel)",
   "language": "python",
   "name": "python3"
  },
  "language_info": {
   "codemirror_mode": {
    "name": "ipython",
    "version": 3
   },
   "file_extension": ".py",
   "mimetype": "text/x-python",
   "name": "python",
   "nbconvert_exporter": "python",
   "pygments_lexer": "ipython3",
   "version": "3.11.10"
  }
 },
 "nbformat": 4,
 "nbformat_minor": 5
}
