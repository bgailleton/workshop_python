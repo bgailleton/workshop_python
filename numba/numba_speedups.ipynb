{
 "cells": [
  {
   "cell_type": "markdown",
   "id": "8663feed",
   "metadata": {},
   "source": [
    "# Measuring Numba Speedups\n",
    "\n",
    "### 🏎️ What we cover\n",
    "- Compare pure Python loops with their `@njit` twins.\n",
    "- Time different patterns: scalar loops, random sampling, and stencil updates.\n",
    "- Visualise the speedups so you can share eye-catching numbers during the workshop.\n",
    "\n",
    "## Setup\n"
   ]
  },
  {
   "cell_type": "code",
   "execution_count": null,
   "id": "a4e5ab81",
   "metadata": {},
   "outputs": [],
   "source": [
    "!pip install numba"
   ]
  },
  {
   "cell_type": "code",
   "execution_count": null,
   "id": "c6b6e6e2",
   "metadata": {},
   "outputs": [],
   "source": [
    "import math\n",
    "import numpy as np\n",
    "import pandas as pd\n",
    "import matplotlib.pyplot as plt\n",
    "from numba import njit, prange\n",
    "from time import perf_counter\n",
    "\n",
    "%matplotlib inline\n",
    "np.random.seed(42)\n"
   ]
  },
  {
   "cell_type": "markdown",
   "id": "08071b3c",
   "metadata": {},
   "source": [
    "### ⏱️ Timing helper\n",
    "Tiny wrapper over `perf_counter` that warms up the function and averages repeats—it keeps comparisons honest and reproducible.\n"
   ]
  },
  {
   "cell_type": "code",
   "execution_count": null,
   "id": "f8d3cdde",
   "metadata": {},
   "outputs": [],
   "source": [
    "def time_function(fn, *args, warmup=1, repeat=5):\n",
    "    for _ in range(warmup):\n",
    "        fn(*args)\n",
    "    start = perf_counter()\n",
    "    for _ in range(repeat):\n",
    "        fn(*args)\n",
    "    end = perf_counter()\n",
    "    return (end - start) / repeat\n"
   ]
  },
  {
   "cell_type": "markdown",
   "id": "a64d887c",
   "metadata": {},
   "source": [
    "### 🔢 Example 1 — Polynomial evaluation\n",
    "Horner's method is branch-free and memory-light, so it's perfect for illustrating JIT overhead vs. steady-state gains on pure arithmetic loops.\n"
   ]
  },
  {
   "cell_type": "code",
   "execution_count": null,
   "id": "2354f023",
   "metadata": {},
   "outputs": [],
   "source": [
    "def poly_eval_py(coeffs, x):\n",
    "    total = 0.0\n",
    "    for c in coeffs:\n",
    "        total = total * x + c\n",
    "    return total\n",
    "\n",
    "@njit(cache=True)\n",
    "def poly_eval_nb(coeffs, x):\n",
    "    total = 0.0\n",
    "    for c in coeffs:\n",
    "        total = total * x + c\n",
    "    return total\n",
    "\n",
    "coeffs = np.random.rand(2_000)\n",
    "xs = np.random.rand(2_000)\n",
    "\n",
    "def run_poly(fn):\n",
    "    acc = 0.0\n",
    "    for value in xs:\n",
    "        acc += fn(coeffs, value)\n",
    "    return acc\n",
    "\n",
    "poly_py_time = time_function(run_poly, poly_eval_py)\n",
    "poly_nb_time = time_function(run_poly, poly_eval_nb)\n",
    "print('poly python:', poly_py_time, 's')\n",
    "print('poly numba :', poly_nb_time, 's')\n"
   ]
  },
  {
   "cell_type": "markdown",
   "id": "2bf7415d",
   "metadata": {},
   "source": [
    "### 🎲 Example 2 — Monte Carlo π\n",
    "Random number loops stress Python's function-call overhead; once jitted, the same logic turns into tight C code while still using NumPy RNG.\n"
   ]
  },
  {
   "cell_type": "code",
   "execution_count": null,
   "id": "cc4f7c21",
   "metadata": {},
   "outputs": [],
   "source": [
    "def monte_carlo_pi_py(n):\n",
    "    inside = 0\n",
    "    for _ in range(n):\n",
    "        x = np.random.rand()\n",
    "        y = np.random.rand()\n",
    "        if x * x + y * y <= 1.0:\n",
    "            inside += 1\n",
    "    return 4.0 * inside / n\n",
    "\n",
    "@njit(cache=True)\n",
    "def monte_carlo_pi_nb(n):\n",
    "    inside = 0\n",
    "    for _ in range(n):\n",
    "        x = np.random.rand()\n",
    "        y = np.random.rand()\n",
    "        if x * x + y * y <= 1.0:\n",
    "            inside += 1\n",
    "    return 4.0 * inside / n\n",
    "\n",
    "N = 2_000_000\n",
    "pi_py_time = time_function(monte_carlo_pi_py, N)\n",
    "pi_nb_time = time_function(monte_carlo_pi_nb, N)\n",
    "print('pi python:', pi_py_time, 's')\n",
    "print('pi numba :', pi_nb_time, 's')\n"
   ]
  },
  {
   "cell_type": "markdown",
   "id": "3c596e3e",
   "metadata": {},
   "source": [
    "### 🌡️ Example 3 — 2D diffusion step (parallel stencil)\n",
    "A five-point stencil highlights two wins at once: Numba removes Python's nested-loop cost and `prange` spreads the work across CPU cores.\n"
   ]
  },
  {
   "cell_type": "code",
   "execution_count": null,
   "id": "8747ba7a",
   "metadata": {},
   "outputs": [],
   "source": [
    "def diffuse_step_py(field, out, alpha):\n",
    "    nx, ny = field.shape\n",
    "    for i in range(1, nx - 1):\n",
    "        for j in range(1, ny - 1):\n",
    "            lap = (\n",
    "                -4.0 * field[i, j]\n",
    "                + field[i + 1, j]\n",
    "                + field[i - 1, j]\n",
    "                + field[i, j + 1]\n",
    "                + field[i, j - 1]\n",
    "            )\n",
    "            out[i, j] = field[i, j] + alpha * lap\n",
    "\n",
    "@njit(parallel=True, cache=True)\n",
    "def diffuse_step_nb(field, out, alpha):\n",
    "    nx, ny = field.shape\n",
    "    for i in prange(1, nx - 1):\n",
    "        for j in range(1, ny - 1):\n",
    "            lap = (\n",
    "                -4.0 * field[i, j]\n",
    "                + field[i + 1, j]\n",
    "                + field[i - 1, j]\n",
    "                + field[i, j + 1]\n",
    "                + field[i, j - 1]\n",
    "            )\n",
    "            out[i, j] = field[i, j] + alpha * lap\n",
    "\n",
    "field = np.random.rand(2048, 2048)\n",
    "out = np.empty_like(field)\n",
    "\n",
    "def run_diffuse(fn):\n",
    "    fn(field, out, 0.12)\n",
    "    return out\n",
    "\n",
    "heat_py_time = time_function(run_diffuse, diffuse_step_py)\n",
    "heat_nb_time = time_function(run_diffuse, diffuse_step_nb)\n",
    "print('heat python:', heat_py_time, 's')\n",
    "print('heat numba :', heat_nb_time, 's')\n"
   ]
  },
  {
   "cell_type": "markdown",
   "id": "8331fa8a",
   "metadata": {},
   "source": [
    "### 📊 Speedup summary\n",
    "Collect the timings into a dataframe and bar chart so you can screenshot the payoff for slides or internal docs.\n"
   ]
  },
  {
   "cell_type": "code",
   "execution_count": null,
   "id": "29bad5c8",
   "metadata": {},
   "outputs": [],
   "source": [
    "results = pd.DataFrame([\n",
    "    ('Polynomial eval', poly_py_time, poly_nb_time),\n",
    "    ('Monte Carlo π', pi_py_time, pi_nb_time),\n",
    "    ('Diffusion step', heat_py_time, heat_nb_time),\n",
    "], columns=['benchmark', 'python_s', 'numba_s'])\n",
    "\n",
    "results['speedup'] = results['python_s'] / results['numba_s']\n",
    "print(results)\n",
    "\n",
    "ax = results.plot.bar(x='benchmark', y='speedup', legend=False, color=['#ff8c00'])\n",
    "ax.set_ylabel('× faster than pure Python')\n",
    "ax.set_ylim(0, results['speedup'].max() * 1.2)\n",
    "ax.set_title('Numba speedups for common workloads')\n",
    "plt.xticks(rotation=0)\n",
    "plt.show()\n"
   ]
  },
  {
   "cell_type": "code",
   "execution_count": null,
   "id": "ad4eb936-8f4a-490b-a7b2-b73bbb59e0a6",
   "metadata": {},
   "outputs": [],
   "source": []
  }
 ],
 "metadata": {
  "kernelspec": {
   "display_name": "Python 3 (ipykernel)",
   "language": "python",
   "name": "python3"
  },
  "language_info": {
   "codemirror_mode": {
    "name": "ipython",
    "version": 3
   },
   "file_extension": ".py",
   "mimetype": "text/x-python",
   "name": "python",
   "nbconvert_exporter": "python",
   "pygments_lexer": "ipython3",
   "version": "3.11.10"
  }
 },
 "nbformat": 4,
 "nbformat_minor": 5
}
