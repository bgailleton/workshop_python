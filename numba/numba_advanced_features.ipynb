{
 "cells": [
  {
   "cell_type": "markdown",
   "id": "1b2d1de2",
   "metadata": {},
   "source": [
    "# Numba Advanced Features\n",
    "\n",
    "### 🧰 What we highlight\n",
    "- 🏗️ Defining `jitclass` structures for object-like workflows.\n",
    "- 📚 Working with `typed.List` and `typed.Dict` to keep dynamic containers JIT-friendly.\n",
    "- 🔂 Creating callbacks with `cfunc` and wiring them into SciPy-style integrators.\n",
    "- 🧵 Combining parallelism, fastmath, and random states for stochastic simulations.\n",
    "\n",
    "## Setup\n"
   ]
  },
  {
   "cell_type": "code",
   "execution_count": null,
   "id": "41f44797",
   "metadata": {},
   "outputs": [],
   "source": [
    "!pip install numba"
   ]
  },
  {
   "cell_type": "code",
   "execution_count": null,
   "id": "8b51d070",
   "metadata": {},
   "outputs": [],
   "source": [
    "import numpy as np\n",
    "from numba import njit, prange\n",
    "from numba.typed import List, Dict\n",
    "from numba import types\n",
    "from numba.experimental import jitclass\n",
    "from numba import cfunc\n",
    "import math\n"
   ]
  },
  {
   "cell_type": "markdown",
   "id": "2eefcc07",
   "metadata": {},
   "source": [
    "### 🧱 `jitclass`: struct-like objects\n",
    "Use `jitclass` when you need stateful structures without sacrificing nopython performance—this particle example mirrors a tiny integrator.\n"
   ]
  },
  {
   "cell_type": "code",
   "execution_count": null,
   "id": "3657dfe9",
   "metadata": {},
   "outputs": [],
   "source": [
    "spec = [\n",
    "    ('position', types.float64[:]),\n",
    "    ('velocity', types.float64[:]),\n",
    "    ('mass', types.float64),\n",
    "]\n",
    "\n",
    "@jitclass(spec)\n",
    "class Particle:\n",
    "    def __init__(self, position, velocity, mass):\n",
    "        self.position = position\n",
    "        self.velocity = velocity\n",
    "        self.mass = mass\n",
    "\n",
    "    def kinetic_energy(self):\n",
    "        vx, vy = self.velocity\n",
    "        return 0.5 * self.mass * (vx * vx + vy * vy)\n",
    "\n",
    "    def integrate(self, force, dt):\n",
    "        ax = force[0] / self.mass\n",
    "        ay = force[1] / self.mass\n",
    "        self.velocity[0] += ax * dt\n",
    "        self.velocity[1] += ay * dt\n",
    "        self.position[0] += self.velocity[0] * dt\n",
    "        self.position[1] += self.velocity[1] * dt\n",
    "\n",
    "p = Particle(np.array([0.0, 0.0], dtype=np.float64),\n",
    "             np.array([1.0, 0.5], dtype=np.float64),\n",
    "             2.0)\n",
    "print('Initial KE:', p.kinetic_energy())\n",
    "p.integrate(np.array([0.0, -9.81 * p.mass], dtype=np.float64), 0.1)\n",
    "print('Updated position:', p.position)\n"
   ]
  },
  {
   "cell_type": "markdown",
   "id": "6dc634e7",
   "metadata": {},
   "source": [
    "### 📦 Typed containers in action\n",
    "Typed dictionaries and lists unlock dynamic data structures in compiled code; the examples show counting and geometry utilities that stay JIT-friendly.\n"
   ]
  },
  {
   "cell_type": "code",
   "execution_count": null,
   "id": "c4d993b9",
   "metadata": {},
   "outputs": [],
   "source": [
    "@njit\n",
    "def histogram(values):\n",
    "    counts = Dict.empty(key_type=types.int32, value_type=types.int32)\n",
    "    for v in values:\n",
    "        key = int(v)\n",
    "        if key in counts:\n",
    "            counts[key] += 1\n",
    "        else:\n",
    "            counts[key] = 1\n",
    "    return counts\n",
    "\n",
    "@njit\n",
    "def polyline_length(points):\n",
    "    total = 0.0\n",
    "    for i in range(1, len(points)):\n",
    "        dx = points[i][0] - points[i - 1][0]\n",
    "        dy = points[i][1] - points[i - 1][1]\n",
    "        total += math.hypot(dx, dy)\n",
    "    return total\n",
    "\n",
    "values = np.array([0, 1, 1, 2, 0, 4, 4, 4, 2])\n",
    "print('Histogram:', histogram(values))\n",
    "\n",
    "poly = List()\n",
    "poly.append(np.array([0.0, 0.0]))\n",
    "poly.append(np.array([1.0, 0.0]))\n",
    "poly.append(np.array([1.0, 1.0]))\n",
    "print('Polyline length:', polyline_length(poly))\n"
   ]
  },
  {
   "cell_type": "markdown",
   "id": "b7f9043f",
   "metadata": {},
   "source": [
    "### 🔁 Callbacks with `cfunc`\n",
    "Export JIT-compiled functions to C by grabbing their address. Perfect for SciPy ODE solvers or custom extension hooks.\n"
   ]
  },
  {
   "cell_type": "code",
   "execution_count": null,
   "id": "58c561af",
   "metadata": {},
   "outputs": [],
   "source": [
    "@cfunc(types.double(types.double))\n",
    "def gaussian(x):\n",
    "    return math.exp(-0.5 * x * x)\n",
    "\n",
    "print('Callable address:', hex(gaussian.address))\n"
   ]
  },
  {
   "cell_type": "markdown",
   "id": "44741bc7",
   "metadata": {},
   "source": [
    "### 🧪 Parallel + RNG example\n",
    "Combine `prange`, `fastmath`, and NumPy RNG to spin up thousands of random walks—handy for Monte Carlo style workloads.\n"
   ]
  },
  {
   "cell_type": "code",
   "execution_count": null,
   "id": "25cb39e6",
   "metadata": {},
   "outputs": [],
   "source": [
    "@njit(parallel=True, fastmath=True)\n",
    "def random_walks(steps, walkers):\n",
    "    positions = np.zeros(walkers, dtype=np.float64)\n",
    "    for i in prange(walkers):\n",
    "        pos = 0.0\n",
    "        for _ in range(steps):\n",
    "            pos += 1 if np.random.rand() > 0.5 else -1\n",
    "        positions[i] = pos\n",
    "    return positions\n",
    "\n",
    "trails = random_walks(2_000, 50_000)\n",
    "print('Mean displacement:', trails.mean())\n",
    "print('Std displacement:', trails.std())\n"
   ]
  },
  {
   "cell_type": "markdown",
   "id": "1ed8bcc4",
   "metadata": {},
   "source": [
    "### 🧮 Reusable solver class example\n",
    "Wrap repeated physics updates inside a `jitclass` so you can reuse the integrator in larger simulations without Python overhead.\n"
   ]
  },
  {
   "cell_type": "code",
   "execution_count": null,
   "id": "4c8394d8",
   "metadata": {},
   "outputs": [],
   "source": [
    "spec_solver = [\n",
    "    ('dt', types.float64),\n",
    "    ('drag', types.float64),\n",
    "    ('gravity', types.float64),\n",
    "]\n",
    "\n",
    "@jitclass(spec_solver)\n",
    "class ProjectileSolver:\n",
    "    def __init__(self, dt, drag, gravity):\n",
    "        self.dt = dt\n",
    "        self.drag = drag\n",
    "        self.gravity = gravity\n",
    "\n",
    "    def step(self, position, velocity):\n",
    "        ax = -self.drag * velocity[0]\n",
    "        ay = -self.gravity - self.drag * velocity[1]\n",
    "        velocity[0] += ax * self.dt\n",
    "        velocity[1] += ay * self.dt\n",
    "        position[0] += velocity[0] * self.dt\n",
    "        position[1] += velocity[1] * self.dt\n",
    "        if position[1] < 0.0:\n",
    "            position[1] = 0.0\n",
    "            velocity[1] = 0.0\n",
    "        return position, velocity\n",
    "\n",
    "solver = ProjectileSolver(0.01, 0.02, 9.81)\n",
    "pos = np.array([0.0, 0.0])\n",
    "vel = np.array([30.0, 30.0])\n",
    "for _ in range(200):\n",
    "    pos, vel = solver.step(pos, vel)\n",
    "print('Landing position approximated:', pos)\n"
   ]
  },
  {
   "cell_type": "code",
   "execution_count": null,
   "id": "c2c2f4a2-9942-4349-940b-e3a06addbaa9",
   "metadata": {},
   "outputs": [],
   "source": []
  },
  {
   "cell_type": "code",
   "execution_count": null,
   "id": "8c0e3411-bda3-4721-b7fc-6c11821147db",
   "metadata": {},
   "outputs": [],
   "source": []
  },
  {
   "cell_type": "code",
   "execution_count": null,
   "id": "a60358f7-13c6-4606-98c4-feb3e3840d57",
   "metadata": {},
   "outputs": [],
   "source": []
  }
 ],
 "metadata": {
  "kernelspec": {
   "display_name": "Python 3 (ipykernel)",
   "language": "python",
   "name": "python3"
  },
  "language_info": {
   "codemirror_mode": {
    "name": "ipython",
    "version": 3
   },
   "file_extension": ".py",
   "mimetype": "text/x-python",
   "name": "python",
   "nbconvert_exporter": "python",
   "pygments_lexer": "ipython3",
   "version": "3.11.10"
  }
 },
 "nbformat": 4,
 "nbformat_minor": 5
}
