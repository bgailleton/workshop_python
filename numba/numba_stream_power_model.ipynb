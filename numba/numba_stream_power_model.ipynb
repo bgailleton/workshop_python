{
 "cells": [
  {
   "cell_type": "markdown",
   "id": "4b99d471",
   "metadata": {},
   "source": [
    "# Stream Power Law with Numba\n",
    "\n",
    "### 🌊 What you'll see\n",
    "- ⚙️ D8 steepest-descent routing using `@njit`.\n",
    "- 🧮 Flow accumulation (drainage area) in a fully compiled loop.\n",
    "- 🪨 Implicit stream power integration (Braun & Willett, 2013 style) via Newton iterations.\n",
    "- 🏔️ Uplift + erosion shaping a synthetic landscape over time.\n",
    "\n",
    "## Setup\n"
   ]
  },
  {
   "cell_type": "code",
   "execution_count": null,
   "id": "b9ed7fa0",
   "metadata": {},
   "outputs": [],
   "source": [
    "!pip install numba"
   ]
  },
  {
   "cell_type": "code",
   "execution_count": null,
   "id": "3fffb0c8",
   "metadata": {},
   "outputs": [],
   "source": [
    "import numpy as np\n",
    "import matplotlib.pyplot as plt\n",
    "from numba import njit\n",
    "\n",
    "plt.rcParams['figure.figsize'] = (6, 5)\n",
    "np.random.seed(10)\n"
   ]
  },
  {
   "cell_type": "markdown",
   "id": "926ff3ef",
   "metadata": {},
   "source": [
    "### 📐 Model parameters"
   ]
  },
  {
   "cell_type": "code",
   "execution_count": null,
   "id": "7c781756",
   "metadata": {},
   "outputs": [],
   "source": [
    "nx, ny = 180, 180\n",
    "cell_size = 50.0  # metres\n",
    "pixel_area = cell_size * cell_size\n",
    "\n",
    "# Stream power parameters (Braun & Willett style)\n",
    "K = 2.5e-6\n",
    "m = 0.5\n",
    "n = 1.0\n",
    "uplift_rate = 5e-4  # m/yr\n",
    "time_step = 2_000.0  # years\n",
    "n_steps = 120\n",
    "\n",
    "init_relief = 200.0\n",
    "noise_amplitude = 10.0\n"
   ]
  },
  {
   "cell_type": "markdown",
   "id": "83aa9781",
   "metadata": {},
   "source": [
    "### 🏞️ Initial topography"
   ]
  },
  {
   "cell_type": "code",
   "execution_count": null,
   "id": "895d1bc8",
   "metadata": {},
   "outputs": [],
   "source": [
    "x = np.linspace(-1, 1, nx)\n",
    "y = np.linspace(-1, 1, ny)\n",
    "X, Y = np.meshgrid(x, y, indexing='ij')\n",
    "\n",
    "# Baseline uplifted plateau with a gentle tilt\n",
    "z0 = init_relief * np.exp(-2.5 * (X**2 + (Y + 0.3)**2))\n",
    "z0 += 40.0 * X\n",
    "z0 += 20.0 * Y\n",
    "z0 += noise_amplitude * np.random.randn(nx, ny)\n",
    "z0 -= z0.min()\n",
    "\n",
    "plt.figure(figsize=(6, 5))\n",
    "plt.imshow(z0.T, origin='lower', cmap='terrain')\n",
    "plt.title('Initial elevation (m)')\n",
    "plt.colorbar(label='m')\n",
    "plt.xticks([])\n",
    "plt.yticks([])\n",
    "plt.show()\n"
   ]
  },
  {
   "cell_type": "markdown",
   "id": "96e67e41",
   "metadata": {},
   "source": [
    "### 🧠 Numba kernels"
   ]
  },
  {
   "cell_type": "code",
   "execution_count": null,
   "id": "a23eb113",
   "metadata": {},
   "outputs": [],
   "source": [
    "@njit(cache=True)\n",
    "def compute_receivers(elev, cell_size):\n",
    "    nx, ny = elev.shape\n",
    "    n = nx * ny\n",
    "    receivers = np.full(n, -1, np.int64)\n",
    "    slope = np.zeros(n, np.float64)\n",
    "    for ix in range(nx):\n",
    "        for iy in range(ny):\n",
    "            idx = ix * ny + iy\n",
    "            z_here = elev[ix, iy]\n",
    "            steepest = 0.0\n",
    "            best = -1\n",
    "            for dx in (-1, 0, 1):\n",
    "                for dy in (-1, 0, 1):\n",
    "                    if dx == 0 and dy == 0:\n",
    "                        continue\n",
    "                    nx_ix = ix + dx\n",
    "                    ny_iy = iy + dy\n",
    "                    if nx_ix < 0 or nx_ix >= nx or ny_iy < 0 or ny_iy >= ny:\n",
    "                        continue\n",
    "                    dz = z_here - elev[nx_ix, ny_iy]\n",
    "                    if dz <= 0.0:\n",
    "                        continue\n",
    "                    dist = cell_size * np.sqrt(dx * dx + dy * dy)\n",
    "                    local_slope = dz / dist\n",
    "                    if local_slope > steepest:\n",
    "                        steepest = local_slope\n",
    "                        best = nx_ix * ny + ny_iy\n",
    "            receivers[idx] = best\n",
    "            slope[idx] = steepest\n",
    "    return receivers, slope\n",
    "\n",
    "@njit(cache=True)\n",
    "def topological_order(receivers):\n",
    "    n = receivers.size\n",
    "    indegree = np.zeros(n, np.int64)\n",
    "    stack = np.empty(n, np.int64)\n",
    "    for i in range(n):\n",
    "        r = receivers[i]\n",
    "        if r != -1:\n",
    "            indegree[r] += 1\n",
    "    head = 0\n",
    "    tail = 0\n",
    "    queue = np.empty(n, np.int64)\n",
    "    for i in range(n):\n",
    "        if indegree[i] == 0:\n",
    "            queue[tail] = i\n",
    "            tail += 1\n",
    "    while head < tail:\n",
    "        node = queue[head]\n",
    "        head += 1\n",
    "        stack[head - 1] = node\n",
    "        receiver = receivers[node]\n",
    "        if receiver != -1:\n",
    "            indegree[receiver] -= 1\n",
    "            if indegree[receiver] == 0:\n",
    "                queue[tail] = receiver\n",
    "                tail += 1\n",
    "    return stack[:head]\n",
    "\n",
    "@njit(cache=True)\n",
    "def accumulate_area(order, receivers, pixel_area):\n",
    "    area = np.full(receivers.size, pixel_area, np.float64)\n",
    "    for idx in range(order.size - 1, -1, -1):\n",
    "        node = order[idx]\n",
    "        rec = receivers[node]\n",
    "        if rec != -1:\n",
    "            area[rec] += area[node]\n",
    "    return area\n",
    "\n",
    "@njit(cache=True)\n",
    "def implicit_stream_power(elev, receivers, order, area, dt, K, m, n, uplift, cell_size):\n",
    "    new_elev = elev.copy()\n",
    "    nx, ny = elev.shape\n",
    "    for idx in range(order.size - 1, -1, -1):\n",
    "        node = order[idx]\n",
    "        rec = receivers[node]\n",
    "        ix = node // ny\n",
    "        iy = node % ny\n",
    "        z_old = elev[ix, iy]\n",
    "        if rec == -1:\n",
    "            new_elev[ix, iy] = z_old + uplift * dt\n",
    "            continue\n",
    "        rx = rec // ny\n",
    "        ry = rec % ny\n",
    "        z_rec = new_elev[rx, ry]\n",
    "        drainage = max(area[node], pixel_area)\n",
    "        A_term = drainage ** m\n",
    "        target = z_old + uplift * dt\n",
    "        z_guess = max(z_rec + 0.1, target)\n",
    "        for _ in range(40):\n",
    "            slope = max((z_guess - z_rec) / cell_size, 1e-5)\n",
    "            erosion = K * A_term * (slope ** n)\n",
    "            f = z_guess - z_old - dt * (uplift - erosion)\n",
    "            if abs(f) < 1e-6:\n",
    "                break\n",
    "            der = 1.0 - dt * (K * A_term * n * (slope ** (n - 1)) * (1.0 / cell_size))\n",
    "            z_guess -= f / der\n",
    "            if z_guess <= z_rec:\n",
    "                z_guess = z_rec + 1e-4\n",
    "        new_elev[ix, iy] = z_guess\n",
    "    return new_elev\n",
    "\n",
    "@njit(cache=True)\n",
    "def update_landscape(elev, dt, K, m, n, uplift, cell_size):\n",
    "    receivers, slope = compute_receivers(elev, cell_size)\n",
    "    order = topological_order(receivers)\n",
    "    area = accumulate_area(order, receivers, cell_size * cell_size)\n",
    "    elev_next = implicit_stream_power(elev, receivers, order, area, dt, K, m, n, uplift, cell_size)\n",
    "    relief = elev_next.max() - elev_next.min()\n",
    "    return elev_next, receivers, slope, area, relief\n"
   ]
  },
  {
   "cell_type": "markdown",
   "id": "13a500a2",
   "metadata": {},
   "source": [
    "### ▶️ Run the simulation"
   ]
  },
  {
   "cell_type": "code",
   "execution_count": null,
   "id": "5ac4e8b9",
   "metadata": {},
   "outputs": [],
   "source": [
    "elevation = z0.copy()\n",
    "relief_history = []\n",
    "mean_height = []\n",
    "area = np.full(nx * ny, pixel_area)\n",
    "\n",
    "for step in range(n_steps):\n",
    "    elevation, receivers, slope, area, relief = update_landscape(\n",
    "        elevation, time_step, K, m, n, uplift_rate, cell_size\n",
    "    )\n",
    "    relief_history.append(relief)\n",
    "    mean_height.append(elevation.mean())\n",
    "\n",
    "    # soft edge condition: clamp base level at border\n",
    "    base = elevation.min()\n",
    "    elevation[0, :] = base\n",
    "    elevation[-1, :] = base\n",
    "    elevation[:, 0] = base\n",
    "    elevation[:, -1] = base\n"
   ]
  },
  {
   "cell_type": "markdown",
   "id": "e871f872",
   "metadata": {},
   "source": [
    "### 🖼️ Visualise final state"
   ]
  },
  {
   "cell_type": "code",
   "execution_count": null,
   "id": "4c4573d6",
   "metadata": {},
   "outputs": [],
   "source": [
    "fig, axes = plt.subplots(1, 3, figsize=(15, 4), constrained_layout=True)\n",
    "imgs = [\n",
    "    (z0.T, 'Initial elevation (m)'),\n",
    "    (elevation.T, 'Final elevation (m)'),\n",
    "    ((elevation - z0).T, 'Elevation change (m)')\n",
    "]\n",
    "for ax, (data, title) in zip(axes, imgs):\n",
    "    im = ax.imshow(data, origin='lower', cmap='terrain')\n",
    "    ax.set_title(title)\n",
    "    ax.set_xticks([])\n",
    "    ax.set_yticks([])\n",
    "    plt.colorbar(im, ax=ax, fraction=0.046, pad=0.04)\n",
    "plt.show()\n"
   ]
  },
  {
   "cell_type": "markdown",
   "id": "9bdf4fa4",
   "metadata": {},
   "source": [
    "### 📈 Diagnostics"
   ]
  },
  {
   "cell_type": "code",
   "execution_count": null,
   "id": "41842d97",
   "metadata": {},
   "outputs": [],
   "source": [
    "fig, ax = plt.subplots(1, 2, figsize=(11, 4))\n",
    "ax[0].plot(np.arange(n_steps) * time_step / 1_000, relief_history, color='tab:red')\n",
    "ax[0].set_xlabel('Time (kyr)')\n",
    "ax[0].set_ylabel('Relief (m)')\n",
    "ax[0].set_title('Relief evolution')\n",
    "\n",
    "ax[1].plot(np.arange(n_steps) * time_step / 1_000, mean_height, color='tab:blue')\n",
    "ax[1].set_xlabel('Time (kyr)')\n",
    "ax[1].set_ylabel('Mean elevation (m)')\n",
    "ax[1].set_title('Mean elevation evolution')\n",
    "plt.show()\n"
   ]
  },
  {
   "cell_type": "markdown",
   "id": "60600425",
   "metadata": {},
   "source": [
    "### 🧭 Flow routing sanity check"
   ]
  },
  {
   "cell_type": "code",
   "execution_count": null,
   "id": "06035bb6",
   "metadata": {},
   "outputs": [],
   "source": [
    "drainage_area = area.reshape(nx, ny)\n",
    "plt.figure(figsize=(6, 5))\n",
    "plt.imshow(np.log10(drainage_area.T + 1), origin='lower', cmap='viridis')\n",
    "plt.title('log10 drainage area (m²)')\n",
    "plt.colorbar(label='log₁₀(A)')\n",
    "plt.xticks([])\n",
    "plt.yticks([])\n",
    "plt.show()\n"
   ]
  }
 ],
 "metadata": {},
 "nbformat": 4,
 "nbformat_minor": 5
}
