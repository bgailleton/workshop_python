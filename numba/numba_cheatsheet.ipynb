{
 "cells": [
  {
   "cell_type": "markdown",
   "id": "c00081dd",
   "metadata": {},
   "source": [
    "# Numba Cheat Sheet\n",
    "\n",
    "### ⚡️ Why Numba rocks for Python numerics\n",
    "- 🚀 JIT-compile hot loops to native code with a single decorator.\n",
    "- 🧮 Stay in pure Python syntax while getting C/Fortran-like performance.\n",
    "- ♻️ Reuse the same function across NumPy arrays, scalars, and typed containers.\n",
    "- 🧭 Pick the right decorator for each workload: scalar `njit`, SIMD `vectorize`, parallel `prange`, or GPU backends.\n",
    "\n",
    "Run through the sections below whenever you need a quick refresher during the workshop.\n",
    "\n",
    "## Installation & imports\n"
   ]
  },
  {
   "cell_type": "code",
   "execution_count": null,
   "id": "87fc94d5",
   "metadata": {},
   "outputs": [],
   "source": [
    "!pip install numba"
   ]
  },
  {
   "cell_type": "code",
   "execution_count": null,
   "id": "d1fb6274",
   "metadata": {},
   "outputs": [],
   "source": [
    "import math\n",
    "import numpy as np\n",
    "from numba import njit, prange, vectorize, guvectorize, float64, int32\n",
    "from numba import types\n",
    "from numba.typed import List, Dict\n",
    "\n",
    "print('Numba version:', __import__('numba').__version__)\n"
   ]
  },
  {
   "cell_type": "markdown",
   "id": "db02fe8f",
   "metadata": {},
   "source": [
    "### 🔑 Core decorators at a glance\n",
    "Use this as the menu of tools to reach for when a loop starts feeling slow or repetitive—the bullets remind you which decorator unlocks which hardware feature.\n",
    "- `@njit` / `@jit`: compile a function the first time it runs; use `nogil=True`, `fastmath=True`, or explicit signatures for extra control.\n",
    "- `prange`: drop-in replacement for `range` inside `@njit(parallel=True)` loops.\n",
    "- `@vectorize` & `@guvectorize`: build universal functions (ufuncs) that broadcast like NumPy.\n",
    "- `typed.List`, `typed.Dict`: Numba-friendly containers for dynamic data.\n"
   ]
  },
  {
   "cell_type": "markdown",
   "id": "02ef1dda",
   "metadata": {},
   "source": [
    "#### ✅ Scalar JIT example\n",
    "A minimal Horner scheme shows how a plain Python loop instantly benefits from `@njit`—no refactor, just annotate and go.\n"
   ]
  },
  {
   "cell_type": "code",
   "execution_count": null,
   "id": "98409156",
   "metadata": {},
   "outputs": [],
   "source": [
    "@njit(cache=True)\n",
    "def pairwise_distance(x, y):\n",
    "    total = 0.0\n",
    "    for i in range(x.shape[0]):\n",
    "        diff = x[i] - y[i]\n",
    "        total += diff * diff\n",
    "    return math.sqrt(total)\n",
    "\n",
    "vec_a = np.random.rand(1_000).astype(np.float64)\n",
    "vec_b = np.random.rand(1_000).astype(np.float64)\n",
    "print('Distance:', pairwise_distance(vec_a, vec_b))\n"
   ]
  },
  {
   "cell_type": "markdown",
   "id": "50ac256e",
   "metadata": {},
   "source": [
    "#### 🎯 Controlling signatures & options\n",
    "Lock in dtypes and math flags when you care about determinism or instruction fusion; the AXPY demo mirrors a classic BLAS call.\n"
   ]
  },
  {
   "cell_type": "code",
   "execution_count": null,
   "id": "ba24b4dd",
   "metadata": {},
   "outputs": [],
   "source": [
    "@njit('(float64, float64[:], float64[:])', fastmath=True)\n",
    "def axpy(a, x, y):\n",
    "    for i in range(x.shape[0]):\n",
    "        y[i] = a * x[i] + y[i]\n",
    "\n",
    "x = np.linspace(0, 1, 8, dtype=np.float64)\n",
    "y = np.ones_like(x)\n",
    "axpy(2.0, x, y)\n",
    "print('AXPY result:', y)\n"
   ]
  },
  {
   "cell_type": "markdown",
   "id": "8e722ffa",
   "metadata": {},
   "source": [
    "#### 🧵 Parallel loops with `prange`\n",
    "When iterations are independent, swap `range` for `prange` to fan work across CPU cores. This row-sum kernel mirrors a real profiling hot spot.\n"
   ]
  },
  {
   "cell_type": "code",
   "execution_count": null,
   "id": "29dcd266",
   "metadata": {},
   "outputs": [],
   "source": [
    "@njit(parallel=True)\n",
    "def row_sums(matrix):\n",
    "    out = np.empty(matrix.shape[0], dtype=np.float64)\n",
    "    for i in prange(matrix.shape[0]):\n",
    "        s = 0.0\n",
    "        for j in range(matrix.shape[1]):\n",
    "            s += matrix[i, j]\n",
    "        out[i] = s\n",
    "    return out\n",
    "\n",
    "mat = np.random.rand(4_000, 512)\n",
    "print('Row sums shape:', row_sums(mat).shape)\n"
   ]
  },
  {
   "cell_type": "markdown",
   "id": "784f8c13",
   "metadata": {},
   "source": [
    "#### 🧮 Vectorized ufuncs\n",
    "Need NumPy-style broadcasting but want native speed? Vectorize wraps your scalar logic into a drop-in ufunc.\n"
   ]
  },
  {
   "cell_type": "code",
   "execution_count": null,
   "id": "6cda5c85",
   "metadata": {},
   "outputs": [],
   "source": [
    "@vectorize([float64(float64)], target='cpu', nopython=True)\n",
    "def smooth_relu(x):\n",
    "    return math.log1p(math.exp(x))\n",
    "\n",
    "inp = np.linspace(-3, 3, 7)\n",
    "print('Smooth ReLU:', smooth_relu(inp))\n"
   ]
  },
  {
   "cell_type": "markdown",
   "id": "9c09a6bb",
   "metadata": {},
   "source": [
    "#### 🔄 Generalized ufunc (`guvectorize`)\n",
    "GUfuncs let you express small batched kernels—think per-row dot products or custom reductions—while keeping NumPy broadcasting semantics.\n"
   ]
  },
  {
   "cell_type": "code",
   "execution_count": null,
   "id": "b4132942",
   "metadata": {},
   "outputs": [],
   "source": [
    "@guvectorize([float64[:], float64[:], float64[:]], '(n),(n)->()', nopython=True)\n",
    "def dot_prod(x, y, out):\n",
    "    acc = 0.0\n",
    "    for i in range(x.shape[0]):\n",
    "        acc += x[i] * y[i]\n",
    "    out[0] = acc\n",
    "\n",
    "block = np.arange(12, dtype=np.float64).reshape(3, 4)\n",
    "print('Dot products vs reversed:', dot_prod(block, block[:, ::-1]))\n"
   ]
  },
  {
   "cell_type": "markdown",
   "id": "045663f6",
   "metadata": {},
   "source": [
    "### 📦 Typed containers\n",
    "Typed lists and dicts are essential when you need dynamic data structures without falling back to Python objects. The examples show both running in pure nopython mode.\n"
   ]
  },
  {
   "cell_type": "code",
   "execution_count": null,
   "id": "74b10e24",
   "metadata": {},
   "outputs": [],
   "source": [
    "@njit\n",
    "def rolling_average(data):\n",
    "    window = List()\n",
    "    result = List()\n",
    "    for value in data:\n",
    "        window.append(value)\n",
    "        if len(window) > 4:\n",
    "            window.pop(0)\n",
    "        result.append(sum(window) / len(window))\n",
    "    return result\n",
    "\n",
    "values = List([1.0, 2.0, 4.0, 8.0, 16.0])\n",
    "print('Rolling averages:', list(rolling_average(values)))\n"
   ]
  },
  {
   "cell_type": "markdown",
   "id": "0b9063be",
   "metadata": {},
   "source": [
    "### 🧪 Inspect typing & lowering\n",
    "After a successful compile, peek at the resolved signatures and look for `object` annotations—any star `*` markers flag code that still falls back to Python.\n"
   ]
  },
  {
   "cell_type": "code",
   "execution_count": null,
   "id": "e2a777b5",
   "metadata": {},
   "outputs": [],
   "source": [
    "sig = pairwise_distance.signatures[0]\n",
    "print('Cached signature:', sig)\n",
    "print(pairwise_distance.inspect_types())\n"
   ]
  },
  {
   "cell_type": "markdown",
   "id": "096fbf6b",
   "metadata": {},
   "source": [
    "### 🧭 Diagnostics & debugging\n",
    "Flip these switches when something refuses to compile; they surface typing decisions, HTML reports, and runtime warnings that speed up debugging.\n"
   ]
  },
  {
   "cell_type": "code",
   "execution_count": null,
   "id": "a08bfc75-e8f2-45ea-a36f-b06aac94879f",
   "metadata": {},
   "outputs": [],
   "source": []
  }
 ],
 "metadata": {
  "kernelspec": {
   "display_name": "Python 3 (ipykernel)",
   "language": "python",
   "name": "python3"
  },
  "language_info": {
   "codemirror_mode": {
    "name": "ipython",
    "version": 3
   },
   "file_extension": ".py",
   "mimetype": "text/x-python",
   "name": "python",
   "nbconvert_exporter": "python",
   "pygments_lexer": "ipython3",
   "version": "3.11.10"
  }
 },
 "nbformat": 4,
 "nbformat_minor": 5
}
