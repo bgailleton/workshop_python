{
 "cells": [
  {
   "cell_type": "markdown",
   "id": "c00081dd",
   "metadata": {},
   "source": [
    "# Numba Cheat Sheet\n",
    "\n",
    "### ⚡️ Why Numba rocks for Python numerics\n",
    "- 🚀 JIT-compile hot loops to native code with a single decorator.\n",
    "- 🧮 Stay in pure Python syntax while getting C/Fortran-like performance.\n",
    "- ♻️ Reuse the same function across NumPy arrays, scalars, and typed containers.\n",
    "- 🧭 Pick the right decorator for each workload: scalar `njit`, SIMD `vectorize`, parallel `prange`, or GPU backends.\n",
    "\n",
    "Run through the sections below whenever you need a quick refresher during the workshop.\n",
    "\n",
    "## Installation & imports\n"
   ]
  },
  {
   "cell_type": "code",
   "execution_count": null,
   "id": "87fc94d5",
   "metadata": {},
   "outputs": [],
   "source": [
    "!pip install numba"
   ]
  },
  {
   "cell_type": "code",
   "execution_count": null,
   "id": "d1fb6274",
   "metadata": {},
   "outputs": [],
   "source": [
    "import math\n",
    "import numpy as np\n",
    "from numba import njit, prange, vectorize, guvectorize, float64, int32\n",
    "from numba import types\n",
    "from numba.typed import List, Dict\n",
    "\n",
    "print('Numba version:', __import__('numba').__version__)\n"
   ]
  },
  {
   "cell_type": "markdown",
   "id": "db02fe8f",
   "metadata": {},
   "source": [
    "### 🔑 Core decorators at a glance\n",
    "- `@njit` / `@jit`: compile a function the first time it runs; use `nogil=True`, `fastmath=True`, or explicit signatures for extra control.\n",
    "- `prange`: drop-in replacement for `range` inside `@njit(parallel=True)` loops.\n",
    "- `@vectorize` & `@guvectorize`: build universal functions (ufuncs) that broadcast like NumPy.\n",
    "- `typed.List`, `typed.Dict`: Numba-friendly containers for dynamic data.\n"
   ]
  },
  {
   "cell_type": "markdown",
   "id": "02ef1dda",
   "metadata": {},
   "source": [
    "#### ✅ Scalar JIT example"
   ]
  },
  {
   "cell_type": "code",
   "execution_count": null,
   "id": "98409156",
   "metadata": {},
   "outputs": [],
   "source": [
    "@njit(cache=True)\n",
    "def pairwise_distance(x, y):\n",
    "    total = 0.0\n",
    "    for i in range(x.shape[0]):\n",
    "        diff = x[i] - y[i]\n",
    "        total += diff * diff\n",
    "    return math.sqrt(total)\n",
    "\n",
    "vec_a = np.random.rand(1_000).astype(np.float64)\n",
    "vec_b = np.random.rand(1_000).astype(np.float64)\n",
    "print('Distance:', pairwise_distance(vec_a, vec_b))\n"
   ]
  },
  {
   "cell_type": "markdown",
   "id": "50ac256e",
   "metadata": {},
   "source": [
    "#### 🎯 Controlling signatures & options"
   ]
  },
  {
   "cell_type": "code",
   "execution_count": null,
   "id": "ba24b4dd",
   "metadata": {},
   "outputs": [],
   "source": [
    "@njit('(float64[:], float64[:], float64[:])', fastmath=True)\n",
    "def axpy(a, x, y):\n",
    "    for i in range(x.shape[0]):\n",
    "        y[i] = a * x[i] + y[i]\n",
    "\n",
    "x = np.linspace(0, 1, 8, dtype=np.float64)\n",
    "y = np.ones_like(x)\n",
    "axpy(2.0, x, y)\n",
    "print('AXPY result:', y)\n"
   ]
  },
  {
   "cell_type": "markdown",
   "id": "8e722ffa",
   "metadata": {},
   "source": [
    "#### 🧵 Parallel loops with `prange`\n",
    "Use `parallel=True` and `prange` when iterations are independent."
   ]
  },
  {
   "cell_type": "code",
   "execution_count": null,
   "id": "29dcd266",
   "metadata": {},
   "outputs": [],
   "source": [
    "@njit(parallel=True)\n",
    "def row_sums(matrix):\n",
    "    out = np.empty(matrix.shape[0], dtype=np.float64)\n",
    "    for i in prange(matrix.shape[0]):\n",
    "        s = 0.0\n",
    "        for j in range(matrix.shape[1]):\n",
    "            s += matrix[i, j]\n",
    "        out[i] = s\n",
    "    return out\n",
    "\n",
    "mat = np.random.rand(4_000, 512)\n",
    "print('Row sums shape:', row_sums(mat).shape)\n"
   ]
  },
  {
   "cell_type": "markdown",
   "id": "784f8c13",
   "metadata": {},
   "source": [
    "#### 🧮 Vectorized ufuncs"
   ]
  },
  {
   "cell_type": "code",
   "execution_count": null,
   "id": "6cda5c85",
   "metadata": {},
   "outputs": [],
   "source": [
    "@vectorize([float64(float64)], target='cpu', nopython=True)\n",
    "def smooth_relu(x):\n",
    "    return math.log1p(math.exp(x))\n",
    "\n",
    "inp = np.linspace(-3, 3, 7)\n",
    "print('Smooth ReLU:', smooth_relu(inp))\n"
   ]
  },
  {
   "cell_type": "markdown",
   "id": "9c09a6bb",
   "metadata": {},
   "source": [
    "#### 🔄 Generalized ufunc (`guvectorize`)\n",
    "Great for batched linear algebra or reductions."
   ]
  },
  {
   "cell_type": "code",
   "execution_count": null,
   "id": "b4132942",
   "metadata": {},
   "outputs": [],
   "source": [
    "@guvectorize([float64[:], float64[:], float64[:]], '(n),(n)->()', nopython=True)\n",
    "def dot_prod(x, y, out):\n",
    "    acc = 0.0\n",
    "    for i in range(x.shape[0]):\n",
    "        acc += x[i] * y[i]\n",
    "    out[0] = acc\n",
    "\n",
    "block = np.arange(12, dtype=np.float64).reshape(3, 4)\n",
    "print('Dot products vs reversed:', dot_prod(block, block[:, ::-1]))\n"
   ]
  },
  {
   "cell_type": "markdown",
   "id": "045663f6",
   "metadata": {},
   "source": [
    "### 📦 Typed containers"
   ]
  },
  {
   "cell_type": "code",
   "execution_count": null,
   "id": "74b10e24",
   "metadata": {},
   "outputs": [],
   "source": [
    "@njit\n",
    "def rolling_average(data):\n",
    "    window = List()\n",
    "    result = List()\n",
    "    for value in data:\n",
    "        window.append(value)\n",
    "        if len(window) > 4:\n",
    "            window.pop(0)\n",
    "        result.append(sum(window) / len(window))\n",
    "    return result\n",
    "\n",
    "values = List([1.0, 2.0, 4.0, 8.0, 16.0])\n",
    "print('Rolling averages:', list(rolling_average(values)))\n"
   ]
  },
  {
   "cell_type": "markdown",
   "id": "0b9063be",
   "metadata": {},
   "source": [
    "### 🧪 Inspect typing & lowering"
   ]
  },
  {
   "cell_type": "code",
   "execution_count": null,
   "id": "e2a777b5",
   "metadata": {},
   "outputs": [],
   "source": [
    "sig = pairwise_distance.signatures[0]\n",
    "print('Cached signature:', sig)\n",
    "print(pairwise_distance.inspect_types())\n"
   ]
  },
  {
   "cell_type": "markdown",
   "id": "096fbf6b",
   "metadata": {},
   "source": [
    "### 🧭 Diagnostics & debugging\n",
    "- `.inspect_types()` prints typing info; look for `*` markers to spot Python object fallbacks.\n",
    "- Use `numba --annotate-html file.py` for HTML reports when working in scripts.\n",
    "- Set `NUMBA_ENABLE_PROFILING=1` or `NUMBA_WARNINGS=debug` for more insight mid-run.\n"
   ]
  }
 ],
 "metadata": {},
 "nbformat": 4,
 "nbformat_minor": 5
}
