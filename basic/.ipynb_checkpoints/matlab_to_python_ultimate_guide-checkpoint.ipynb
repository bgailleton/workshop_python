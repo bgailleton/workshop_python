{
 "cells": [
  {
   "cell_type": "markdown",
   "id": "0ba10f22",
   "metadata": {},
   "source": [
    "# Ultimate Migration Guide: MATLAB → Python (NumPy/SciPy) — For Scientific Computing\n",
    "\n",
    "**Audience:** MATLAB-heavy scientists/engineers.  \n",
    "**Goal:** Show that *nothing in MATLAB is irreplaceable* for scientific computing.  \n",
    "**Scope:** Core language + NumPy, SciPy, Matplotlib, pandas, scikit-image; no Simulink/toolboxes required.  \n",
    "**Tip:** Run cells top-to-bottom. Keep this open as a *cheat sheet* and reference."
   ]
  },
  {
   "cell_type": "markdown",
   "id": "12b79cd9",
   "metadata": {},
   "source": [
    "## 0. TL;DR: Big Picture Mapping\n",
    "\n",
    "- **MATLAB** is a proprietary array language. **Python** is a general language; use **NumPy/SciPy/Matplotlib/pandas** for MATLAB-like work.\n",
    "- **Indexing:** MATLAB is **1-based** and slices **inclusive** on the end when using `end`; Python is **0-based** and slices are **exclusive** at the end.\n",
    "- **Arrays:** MATLAB `double` matrices everywhere. Python uses **NumPy `ndarray`**; choose dtype explicitly (`float64` default).\n",
    "- **Linear algebra:** MATLAB's `A\\b`, `eig`, `svd` → **`numpy.linalg` / `scipy.linalg`**; sparse via **`scipy.sparse`**.\n",
    "- **Plotting:** MATLAB `plot`, `imshow` → **Matplotlib** (`pyplot`) and **image utils** (`matplotlib.pyplot.imshow`), plus **scikit-image** for processing.\n",
    "- **Tables:** MATLAB `table` → **pandas `DataFrame`**.\n",
    "- **Toolboxes:** Most have SciPy/scikit-learn/scikit-image equivalents.\n",
    "- **Scripts & functions:** MATLAB `.m` → **.py modules**, **Jupyter notebooks**, or **packages**."
   ]
  },
  {
   "cell_type": "markdown",
   "id": "4685553b",
   "metadata": {},
   "source": [
    "## 1. Install & Environment (Conda or pip)\n",
    "\n",
    "Use **Conda (recommended for workshops)** or `pip`. Either way, you can get a full scientific stack quickly.\n",
    "\n",
    "### Option A — Conda (recommended)\n",
    "```bash\n",
    "# Fresh environment\n",
    "conda create -n sci python=3.12 numpy scipy matplotlib pandas scikit-image jupyter numba cython\n",
    "conda activate sci\n",
    "jupyter lab  # or: jupyter notebook\n",
    "```\n",
    "\n",
    "### Option B — pip (inside a virtualenv)\n",
    "```bash\n",
    "python -m venv .venv\n",
    "source .venv/bin/activate   # Windows: .venv\\Scripts\\activate\n",
    "pip install -U pip wheel\n",
    "pip install numpy scipy matplotlib pandas scikit-image jupyter numba cython\n",
    "jupyter lab\n",
    "```\n",
    "\n",
    "> **Tip:** If you rely on Fortran-accelerated routines (BLAS/LAPACK), conda-forge builds are painless."
   ]
  },
  {
   "cell_type": "markdown",
   "id": "85b6f7c0",
   "metadata": {},
   "source": [
    "## 2. Language Fundamentals: Indexing, Slicing, Shapes\n",
    "**MATLAB vs Python (NumPy) essentials**."
   ]
  },
  {
   "cell_type": "code",
   "execution_count": null,
   "id": "ca17e192",
   "metadata": {},
   "outputs": [],
   "source": [
    "import numpy as np\n",
    "\n",
    "a = np.arange(1, 11)  # 1..10\n",
    "print(\"a:\", a)\n",
    "print(\"shape:\", a.shape)  # 1D vector\n",
    "\n",
    "A = np.arange(1, 13).reshape(3, 4, order=\"C\")  # 3x4 row-major by default\n",
    "print(\"\\nA:\\n\", A)\n",
    "print(\"A shape:\", A.shape)\n",
    "\n",
    "# Indexing differences\n",
    "print(\"\\nIndexing examples:\")\n",
    "print(\"Python a[0] (MATLAB a(1)) ->\", a[0])\n",
    "print(\"Python a[0:3] (MATLAB a(1:3)) ->\", a[0:3])\n",
    "print(\"Python a[::2] (MATLAB a(1:2:end)) ->\", a[::2])\n",
    "\n",
    "# Rows/cols (remember 0-based)\n",
    "print(\"\\nRow 0, all cols  (MATLAB A(1,:)) ->\", A[0, :])\n",
    "print(\"All rows, col 1    (MATLAB A(:,2)) ->\", A[:, 1])\n",
    "\n",
    "# Boolean masking\n",
    "mask = A % 2 == 0\n",
    "print(\"\\nEven mask:\\n\", mask)\n",
    "print(\"A[mask] (MATLAB A(A%2==0)) ->\", A[mask])\n",
    "\n",
    "# Transpose & conjugate: A.T is transpose; A.conj().T is MATLAB A'\n",
    "B = (A + 1j*A).conj().T\n",
    "print(\"\\nConjugate transpose like MATLAB A' -> shape:\", B.shape)"
   ]
  },
  {
   "cell_type": "markdown",
   "id": "606a8492",
   "metadata": {},
   "source": [
    "### Broadcasting vs. Implicit Expansion\n",
    "MATLAB newer versions have implicit expansion; NumPy has **broadcasting** since forever."
   ]
  },
  {
   "cell_type": "code",
   "execution_count": null,
   "id": "0e3d61a3",
   "metadata": {},
   "outputs": [],
   "source": [
    "x = np.arange(4).reshape(4,1)   # 4x1\n",
    "y = np.arange(3).reshape(1,3)   # 1x3\n",
    "S = x + y                       # 4x3 via broadcasting\n",
    "print(S)"
   ]
  },
  {
   "cell_type": "markdown",
   "id": "a6b0d7d5",
   "metadata": {},
   "source": [
    "## 3. Elementwise vs Matrix Operations\n",
    "\n",
    "- MATLAB `.*`, `./`, `.^` → Python uses **same operators** for elementwise on arrays: `*`, `/`, `**`.\n",
    "- Matrix multiply: MATLAB `*` → Python **`@`** or `np.matmul`."
   ]
  },
  {
   "cell_type": "code",
   "execution_count": null,
   "id": "32003a1b",
   "metadata": {},
   "outputs": [],
   "source": [
    "A = np.arange(1, 7).reshape(2, 3)\n",
    "B = np.arange(1, 7).reshape(3, 2)\n",
    "\n",
    "print(\"Elementwise square (MATLAB A.^2):\\n\", A**2)\n",
    "print(\"\\nMatrix product (MATLAB A*B):\\n\", A @ B)"
   ]
  },
  {
   "cell_type": "markdown",
   "id": "1c4902cd",
   "metadata": {},
   "source": [
    "## 4. Shapes & Sizes (Common Queries)"
   ]
  },
  {
   "cell_type": "code",
   "execution_count": null,
   "id": "0567a601",
   "metadata": {},
   "outputs": [],
   "source": [
    "X = np.random.default_rng(0).normal(size=(5, 3, 2))\n",
    "\n",
    "print(\"shape (MATLAB size(X)):\", X.shape)\n",
    "print(\"ndim  (MATLAB ndims):\", X.ndim)\n",
    "print(\"size along axis 0 (MATLAB size(X,1)):\", X.shape[0])\n",
    "print(\"num elements (MATLAB numel):\", X.size)\n",
    "print(\"flatten (MATLAB X(:)):\", X.ravel())"
   ]
  },
  {
   "cell_type": "markdown",
   "id": "d6680405",
   "metadata": {},
   "source": [
    "## 5. Linear Algebra (Dense): `numpy.linalg` / `scipy.linalg`\n",
    "- Solve `Ax=b`: MATLAB `x = A\\b` → **`np.linalg.solve(A, b)`**\n",
    "- Least squares: MATLAB `A\\b` for tall A → **`np.linalg.lstsq(A, b)`**\n",
    "- `eig`, `svd`, `qr`, `cholesky` → **NumPy/SciPy equivalents**"
   ]
  },
  {
   "cell_type": "code",
   "execution_count": null,
   "id": "45bccbb4",
   "metadata": {},
   "outputs": [],
   "source": [
    "import numpy as np\n",
    "A = np.array([[3.0, 2.0], [2.0, 6.0]])\n",
    "b = np.array([2.0, -8.0])\n",
    "\n",
    "x = np.linalg.solve(A, b)\n",
    "w, V = np.linalg.eig(A)\n",
    "U, s, VT = np.linalg.svd(A)\n",
    "\n",
    "print(\"solve Ax=b:\", x)\n",
    "print(\"\\neigvals:\", w)\n",
    "print(\"svd singular values:\", s)"
   ]
  },
  {
   "cell_type": "markdown",
   "id": "42023fd6",
   "metadata": {},
   "source": [
    "## 6. Sparse Matrices: `scipy.sparse`"
   ]
  },
  {
   "cell_type": "code",
   "execution_count": null,
   "id": "f0c895d1",
   "metadata": {},
   "outputs": [],
   "source": [
    "import numpy as np\n",
    "from scipy import sparse\n",
    "\n",
    "row = np.array([0, 1, 2, 2])\n",
    "col = np.array([0, 1, 0, 2])\n",
    "data = np.array([10.0, 20.0, 30.0, 40.0])\n",
    "\n",
    "S = sparse.coo_matrix((data, (row, col)), shape=(3, 3)).tocsr()\n",
    "print(S)\n",
    "print(\"S @ [1,2,3] ->\", (S @ np.array([1.0, 2.0, 3.0])).tolist())"
   ]
  },
  {
   "cell_type": "markdown",
   "id": "d8a1d7aa",
   "metadata": {},
   "source": [
    "## 7. Plotting: Matplotlib (familiar enough)\n",
    "- `plot`, `xlabel`, `ylabel`, `title`, `legend` match MATLAB concepts.\n",
    "- Multiple `plot()` calls draw on the same axes."
   ]
  },
  {
   "cell_type": "code",
   "execution_count": null,
   "id": "efb4fd2c",
   "metadata": {},
   "outputs": [],
   "source": [
    "import numpy as np\n",
    "import matplotlib.pyplot as plt\n",
    "\n",
    "x = np.linspace(0, 2*np.pi, 200)\n",
    "y1 = np.sin(x)\n",
    "y2 = np.cos(x)\n",
    "\n",
    "plt.figure()\n",
    "plt.plot(x, y1, label=\"sin\")\n",
    "plt.plot(x, y2, label=\"cos\")\n",
    "plt.xlabel(\"x\")\n",
    "plt.ylabel(\"y\")\n",
    "plt.title(\"Sine & Cosine (Matplotlib)\")\n",
    "plt.legend()\n",
    "plt.show()"
   ]
  },
  {
   "cell_type": "markdown",
   "id": "1f140a67",
   "metadata": {},
   "source": [
    "### Images"
   ]
  },
  {
   "cell_type": "code",
   "execution_count": null,
   "id": "cbf86f31",
   "metadata": {},
   "outputs": [],
   "source": [
    "import numpy as np\n",
    "import matplotlib.pyplot as plt\n",
    "\n",
    "img = np.linspace(0, 1, 256*256, dtype=np.float64).reshape(256,256)\n",
    "plt.figure()\n",
    "plt.imshow(img, cmap=\"gray\")\n",
    "plt.title(\"Grayscale gradient (imshow)\")\n",
    "plt.axis(\"off\")\n",
    "plt.show()"
   ]
  },
  {
   "cell_type": "markdown",
   "id": "734e3e7f",
   "metadata": {},
   "source": [
    "## 8. Tables & Metadata: pandas DataFrame = MATLAB `table`"
   ]
  },
  {
   "cell_type": "code",
   "execution_count": null,
   "id": "6a57ea04",
   "metadata": {},
   "outputs": [],
   "source": [
    "import pandas as pd\n",
    "import numpy as np\n",
    "\n",
    "df = pd.DataFrame({\n",
    "    \"id\": np.arange(5),\n",
    "    \"value\": np.random.default_rng(0).normal(size=5),\n",
    "    \"label\": list(\"abcde\"),\n",
    "})\n",
    "display(df.head())\n",
    "\n",
    "print(\"\\nDescribe:\")\n",
    "print(df.describe(numeric_only=True))\n",
    "\n",
    "print(\"\\nFilter (MATLAB df(df.value>0,:))\")\n",
    "print(df[df[\"value\"] > 0])"
   ]
  },
  {
   "cell_type": "markdown",
   "id": "a277b304",
   "metadata": {},
   "source": [
    "## 9. File I/O: MAT, CSV, HDF5, NetCDF"
   ]
  },
  {
   "cell_type": "code",
   "execution_count": null,
   "id": "1211480b",
   "metadata": {},
   "outputs": [],
   "source": [
    "from scipy.io import savemat, loadmat\n",
    "import numpy as np\n",
    "import tempfile, os\n",
    "\n",
    "# MAT files\n",
    "tmp = tempfile.NamedTemporaryFile(suffix=\".mat\", delete=False)\n",
    "savemat(tmp.name, {\"A\": np.arange(6).reshape(2,3), \"note\": \"hello\"})\n",
    "mat = loadmat(tmp.name)\n",
    "print(\"Loaded from .mat:\", [k for k in mat.keys() if not k.startswith('__')])\n",
    "os.remove(tmp.name)\n",
    "\n",
    "# CSV\n",
    "import pandas as pd, io\n",
    "csv_buf = io.StringIO()\n",
    "pd.DataFrame({\"x\":[1,2,3], \"y\":[10,20,30]}).to_csv(csv_buf, index=False)\n",
    "csv_buf.seek(0)\n",
    "print(\"\\nCSV preview:\")\n",
    "print(csv_buf.getvalue())\n",
    "\n",
    "# HDF5 via pandas (to_hdf) or h5py; NetCDF via netCDF4/xarray (not shown here)."
   ]
  },
  {
   "cell_type": "markdown",
   "id": "aea992d1",
   "metadata": {},
   "source": [
    "## 10. Random Numbers"
   ]
  },
  {
   "cell_type": "code",
   "execution_count": null,
   "id": "eefb6b2a",
   "metadata": {},
   "outputs": [],
   "source": [
    "import numpy as np\n",
    "\n",
    "rng = np.random.default_rng(42)  # Generator (recommended)\n",
    "print(\"normal(0,1, size=3):\", rng.normal(size=3))\n",
    "print(\"integers 0..9:\", rng.integers(0, 10, size=5))\n",
    "print(\"choice:\", rng.choice([10, 20, 30], size=4, replace=True))"
   ]
  },
  {
   "cell_type": "markdown",
   "id": "3f7013c6",
   "metadata": {},
   "source": [
    "## 11. Optimization, Roots, Least-Squares: `scipy.optimize`"
   ]
  },
  {
   "cell_type": "code",
   "execution_count": null,
   "id": "34f52377",
   "metadata": {},
   "outputs": [],
   "source": [
    "import numpy as np\n",
    "from scipy import optimize\n",
    "\n",
    "# Nonlinear root: solve f(x)=0 for x ~ 1\n",
    "f = lambda x: x*np.cos(x) - 0.25\n",
    "root = optimize.root_scalar(f, bracket=[0, 2])\n",
    "print(\"root ~\", root.root)\n",
    "\n",
    "# Nonlinear least squares\n",
    "def model(p, x):\n",
    "    a, b = p\n",
    "    return a*np.exp(b*x)\n",
    "\n",
    "x = np.linspace(0,1,20)\n",
    "y = 2.0*np.exp(1.5*x) + 0.05*np.random.default_rng(0).normal(size=len(x))\n",
    "\n",
    "def residuals(p):\n",
    "    return model(p, x) - y\n",
    "\n",
    "res = optimize.least_squares(residuals, x0=[1.0, 1.0])\n",
    "print(\"fit params:\", res.x)"
   ]
  },
  {
   "cell_type": "markdown",
   "id": "d7e6e2f0",
   "metadata": {},
   "source": [
    "## 12. ODEs/PDE Building Blocks: `scipy.integrate`"
   ]
  },
  {
   "cell_type": "code",
   "execution_count": null,
   "id": "2e977b84",
   "metadata": {},
   "outputs": [],
   "source": [
    "import numpy as np\n",
    "from scipy.integrate import solve_ivp\n",
    "\n",
    "def rhs(t, y):\n",
    "    # dy/dt = -y, y(0)=1\n",
    "    return -y\n",
    "\n",
    "sol = solve_ivp(rhs, (0, 5), y0=[1.0], dense_output=True)\n",
    "print(\"y(5) ~\", sol.sol(5.0)[0])"
   ]
  },
  {
   "cell_type": "markdown",
   "id": "5fa285eb",
   "metadata": {},
   "source": [
    "## 13. Signal & Image Processing\n",
    "- **Signal:** `scipy.signal`\n",
    "- **FFT:** `numpy.fft` / `scipy.fft`\n",
    "- **Image:** `scikit-image`"
   ]
  },
  {
   "cell_type": "code",
   "execution_count": null,
   "id": "209104be",
   "metadata": {},
   "outputs": [],
   "source": [
    "import numpy as np\n",
    "from scipy import fft\n",
    "\n",
    "fs = 200.0\n",
    "t = np.arange(0, 1, 1/fs)\n",
    "sig = np.sin(2*np.pi*20*t) + 0.5*np.sin(2*np.pi*40*t)\n",
    "\n",
    "f = fft.rfftfreq(len(t), 1/fs)\n",
    "S = np.abs(fft.rfft(sig))\n",
    "\n",
    "import matplotlib.pyplot as plt\n",
    "plt.figure()\n",
    "plt.plot(f, S)\n",
    "plt.xlabel(\"Frequency [Hz]\")\n",
    "plt.ylabel(\"|FFT|\")\n",
    "plt.title(\"Simple FFT\")\n",
    "plt.show()"
   ]
  },
  {
   "cell_type": "markdown",
   "id": "91695755",
   "metadata": {},
   "source": [
    "## 14. Performance: Vectorize, Numba, Cython\n",
    "- Prefer **vectorized NumPy** ops.\n",
    "- Use **Numba** `@njit` for fast loops when vectorization is awkward.\n",
    "- For the absolute edge, **Cython** / custom C/C++."
   ]
  },
  {
   "cell_type": "code",
   "execution_count": null,
   "id": "520824c3",
   "metadata": {},
   "outputs": [],
   "source": [
    "import numpy as np\n",
    "\n",
    "# Vectorized: fast\n",
    "def pairwise_distances_vectorized(X):\n",
    "    # squared Euclidean distances between rows of X\n",
    "    G = X @ X.T\n",
    "    diag = np.diag(G)\n",
    "    D2 = diag[:,None] + diag[None,:] - 2*G\n",
    "    D2[D2 < 0] = 0.0\n",
    "    return np.sqrt(D2, dtype=X.dtype)\n",
    "\n",
    "X = np.random.default_rng(0).normal(size=(300, 8))\n",
    "D = pairwise_distances_vectorized(X)\n",
    "print(\"D shape:\", D.shape)"
   ]
  },
  {
   "cell_type": "code",
   "execution_count": null,
   "id": "96487dde",
   "metadata": {},
   "outputs": [],
   "source": [
    "# Optional: Numba acceleration demo (works if numba installed)\n",
    "try:\n",
    "    import numba as nb\n",
    "    import numpy as np\n",
    "\n",
    "    @nb.njit\n",
    "    def roll_sum(x, w):\n",
    "        n = x.shape[0]\n",
    "        out = np.empty(n - w + 1, dtype=x.dtype)\n",
    "        s = 0.0\n",
    "        for i in range(n):\n",
    "            s += x[i]\n",
    "            if i >= w:\n",
    "                s -= x[i-w]\n",
    "            if i >= w-1:\n",
    "                out[i-w+1] = s\n",
    "        return out\n",
    "\n",
    "    x = np.random.random(10_000)\n",
    "    out = roll_sum(x, 32)\n",
    "    print(\"Numba roll_sum:\", out.shape)\n",
    "except Exception as e:\n",
    "    print(\"Numba not available or JIT failed:\", e)"
   ]
  },
  {
   "cell_type": "markdown",
   "id": "7dcb490b",
   "metadata": {},
   "source": [
    "## 15. Common MATLAB → Python Cheat Sheet\n",
    "**Use this table when porting.**"
   ]
  },
  {
   "cell_type": "code",
   "execution_count": null,
   "id": "2b7f79ae",
   "metadata": {},
   "outputs": [],
   "source": [
    "import pandas as pd\n",
    "\n",
    "mapping = [\n",
    "    (\"size(A)\", \"A.shape\"),\n",
    "    (\"length(A)\", \"A.size or max(A.shape)\"),\n",
    "    (\"numel(A)\", \"A.size\"),\n",
    "    (\"ndims(A)\", \"A.ndim\"),\n",
    "    (\"A(:)\", \"A.ravel() or A.flatten()\"),\n",
    "    (\"A.' / A'\", \"A.T / A.conj().T\"),\n",
    "    (\"A*B (matrix)\", \"A @ B\"),\n",
    "    (\"A.*B (elemwise)\", \"A * B\"),\n",
    "    (\"A./B (elemwise)\", \"A / B\"),\n",
    "    (\"A.^k\", \"A ** k\"),\n",
    "    (\"A\\\\b\", \"np.linalg.solve(A,b) or np.linalg.lstsq(A,b, rcond=None)\"),\n",
    "    (\"inv(A)\", \"np.linalg.inv(A) (rarely needed)\"),\n",
    "    (\"pinv(A)\", \"np.linalg.pinv(A)\"),\n",
    "    (\"eig(A)\", \"np.linalg.eig(A)\"),\n",
    "    (\"svd(A)\", \"np.linalg.svd(A)\"),\n",
    "    (\"qr(A)\", \"np.linalg.qr(A)\"),\n",
    "    (\"chol(A)\", \"np.linalg.cholesky(A)\"),\n",
    "    (\"eye(n)\", \"np.eye(n)\"),\n",
    "    (\"zeros(n,m)\", \"np.zeros((n,m))\"),\n",
    "    (\"ones(n,m)\", \"np.ones((n,m))\"),\n",
    "    (\"rand(n,m)\", \"np.random.default_rng().random((n,m))\"),\n",
    "    (\"randn(n,m)\", \"np.random.default_rng().normal(size=(n,m))\"),\n",
    "    (\"linspace(a,b,n)\", \"np.linspace(a,b,n)\"),\n",
    "    (\"logspace(a,b,n)\", \"np.logspace(a,b,n)\"),\n",
    "    (\"meshgrid(x,y)\", \"np.meshgrid(x,y,indexing='xy')\"),\n",
    "    (\"ndgrid(x,y)\", \"np.meshgrid(x,y,indexing='ij')\"),\n",
    "    (\"repmat(A,m,n)\", \"np.tile(A, (m,n))\"),\n",
    "    (\"bsxfun(@op,A,B)\", \"broadcasting: op(A,B)\"),\n",
    "    (\"find(idx)\", \"np.nonzero(idx)\"),\n",
    "    (\"sum(A,dim)\", \"A.sum(axis=dim-1)  # MATLAB dim=1(rows)→axis=0\"),\n",
    "    (\"mean(A,dim)\", \"A.mean(axis=dim-1)\"),\n",
    "    (\"std(A,dim)\", \"A.std(axis=dim-1, ddof=1)\"),\n",
    "    (\"diag(v) / diag(A)\", \"np.diag(v) / np.diag(A)\"),\n",
    "    (\"cat(dim, ...)\", \"np.concatenate([...], axis=dim-1)\"),\n",
    "    (\"cell array\", \"Python list of arrays/objects\"),\n",
    "    (\"struct\", \"Python dict or simple class\"),\n",
    "    (\"function handle @f\", \"callable `f` (def or lambda)\"),\n",
    "    (\"table\", \"pandas DataFrame\"),\n",
    "    (\"save('x.mat','A')\", \"scipy.io.savemat('x.mat', {'A':A})\"),\n",
    "    (\"load('x.mat')\", \"scipy.io.loadmat('x.mat')\"),\n",
    "    (\"plot(x,y)\", \"matplotlib.pyplot.plot(x,y)\"),\n",
    "    (\"imshow(I)\", \"matplotlib.pyplot.imshow(I)\"),\n",
    "    (\"subplot(m,n,i)\", \"matplotlib.pyplot.subplot(m,n,i) / `plt.subplots`\"),\n",
    "    (\"hold on\", \"multiple `plot()` on same axes\"),\n",
    "    (\"axis equal\", \"plt.axis('equal')\"),\n",
    "    (\"xlim/ylim\", \"plt.xlim / plt.ylim\"),\n",
    "]\n",
    "df_map = pd.DataFrame(mapping, columns=[\"MATLAB\", \"Python/NumPy/SciPy\"])\n",
    "\n",
    "# Display in the notebook using pandas' rich repr\n",
    "df_map"
   ]
  },
  {
   "cell_type": "markdown",
   "id": "3716d4d0",
   "metadata": {},
   "source": [
    "## 16. Scripts, Modules, Packages\n",
    "- MATLAB scripts/functions in `.m` → **modules** (`.py`) and **packages** (folders with `__init__.py`).\n",
    "- Add paths: use packages and `pip install -e .` rather than `addpath`.\n",
    "- Docstrings (`\"\"\"Doc\"\"\"`) replace MATLAB help blocks."
   ]
  },
  {
   "cell_type": "markdown",
   "id": "fb865334",
   "metadata": {},
   "source": [
    "## 17. Gotchas & Differences Checklist\n",
    "- **Index base:** MATLAB 1-based vs Python 0-based.\n",
    "- **Slice end:** MATLAB `1:3` includes 3; Python `0:3` excludes 3.\n",
    "- **Column-major vs Row-major:** MATLAB is Fortran-order; NumPy defaults to C-order (row-major). Use `order='F'` where beneficial.\n",
    "- **Views:** NumPy slicing returns **views** when possible — mutations can affect the original.\n",
    "- **`A'` vs `A.'`:** In NumPy, use `A.conj().T` vs `A.T`.\n",
    "- **Broadcasting:** Embrace it; drop `bsxfun`/`repmat` gymnastics.\n",
    "- **NaN/Inf:** `np.nan`, `np.isfinite`, `np.nanmean`, etc.\n",
    "- **Random:** Prefer `np.random.default_rng(seed)`.\n",
    "- **Performance:** Vectorize → Numba/Cython if needed."
   ]
  },
  {
   "cell_type": "markdown",
   "id": "aeebd312",
   "metadata": {},
   "source": [
    "## 18. Final Word\n",
    "If you can do it in MATLAB, you can do it — and often **faster/cheaper** — in Python with NumPy/SciPy/Matplotlib/pandas & friends.\n",
    "Keep this notebook as your living companion during migration."
   ]
  }
 ],
 "metadata": {},
 "nbformat": 4,
 "nbformat_minor": 5
}
