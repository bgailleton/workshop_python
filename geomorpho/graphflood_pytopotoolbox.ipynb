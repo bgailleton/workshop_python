{
 "cells": [
  {
   "cell_type": "code",
   "execution_count": null,
   "id": "161822d7-55f9-4565-bfae-bca528f4523b",
   "metadata": {},
   "outputs": [],
   "source": [
    "import topotoolbox as ttb\n",
    "import matplotlib.pyplot as plt\n",
    "import numpy as np\n",
    "%matplotlib widget\n",
    "\n",
    "dem = ttb.load_dem('greenriver') # example dem\n",
    "# dem = ttb.read_tif('anything_supported_by.rasterio_and_gdal') # Read your data\n",
    "\n",
    "# Boundary conditions (if not given to model, will default to 4 edges can out)\n",
    "# 1 = data, 3 = can out, 0 = no data, here we open every border and nodata region\n",
    "bcs = np.full_like(dem.z,1).astype(np.uint8)\n",
    "bcs[~np.isfinite(dem.z)] = 3 # no data is np.nan, so here we say where nodata can out (flow won't cross)\n",
    "bcs[[-1,0],:] = 3\n",
    "bcs[:,[-1,0]] = 3\n",
    "\n",
    "prec = 10e-3/3600 # can be 2D\n",
    "manning = 0.033 # can be 2D\n",
    "gf = ttb.GFObject(dem,p=prec,bcs=bcs)\n",
    "gf.run_n_iterations(n_iterations=100,dt=5e-3)"
   ]
  },
  {
   "cell_type": "code",
   "execution_count": null,
   "id": "b585152d-c222-4dd5-acf2-da415400f6da",
   "metadata": {},
   "outputs": [],
   "source": [
    "# dem.plot_hs()\n",
    "fig, ax = plt.subplots()\n",
    "ax.imshow(dem.hillshade(), cmap = 'gray')\n",
    "im = ax.imshow(gf.hw, cmap = 'Blues', alpha = 0.8, vmax = 1.)\n",
    "# Available data:\n",
    "# gf.qvol_i # Volumetric discharge based on drainage area (Qin, globally propagated)\n",
    "# gf.qvol_o # Volumetric discharge based on drainage area (Qout, locally calculated)\n",
    "# gf.u # flow velocity\n",
    "# gf.compute_tau() # shear stress\n",
    "plt.colorbar(im,label = 'Flow depth')"
   ]
  },
  {
   "cell_type": "code",
   "execution_count": null,
   "id": "63cfd4e9-2df8-4ff5-bf8d-60dda39a6513",
   "metadata": {},
   "outputs": [],
   "source": [
    "gf.plot_convergence()"
   ]
  },
  {
   "cell_type": "code",
   "execution_count": null,
   "id": "6eecaca9-7bc9-4e0b-bad6-874acea0e4de",
   "metadata": {},
   "outputs": [],
   "source": [
    "fig,ax = plt.subplots()\n",
    "im = ax.imshow(bcs)\n",
    "plt.colorbar(im)"
   ]
  },
  {
   "cell_type": "code",
   "execution_count": null,
   "id": "927eec3c-4dff-450c-adc9-1c9d95682075",
   "metadata": {},
   "outputs": [],
   "source": [
    "gf.run_n_iterations?"
   ]
  },
  {
   "cell_type": "code",
   "execution_count": null,
   "id": "fb9a17b2-1a47-4e01-852b-015e08f96d62",
   "metadata": {},
   "outputs": [],
   "source": [
    "ttb.get_dem_names()\n"
   ]
  },
  {
   "cell_type": "code",
   "execution_count": null,
   "id": "377f22dc-bc97-4c00-b188-3016f5de23fb",
   "metadata": {},
   "outputs": [],
   "source": []
  }
 ],
 "metadata": {
  "kernelspec": {
   "display_name": "Python 3 (ipykernel)",
   "language": "python",
   "name": "python3"
  },
  "language_info": {
   "codemirror_mode": {
    "name": "ipython",
    "version": 3
   },
   "file_extension": ".py",
   "mimetype": "text/x-python",
   "name": "python",
   "nbconvert_exporter": "python",
   "pygments_lexer": "ipython3",
   "version": "3.11.10"
  }
 },
 "nbformat": 4,
 "nbformat_minor": 5
}
