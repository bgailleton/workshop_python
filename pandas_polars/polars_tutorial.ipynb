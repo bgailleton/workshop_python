{
 "cells": [
  {
   "cell_type": "code",
   "execution_count": null,
   "metadata": {},
   "outputs": [],
   "source": [
    "# Install polars and visualization libraries\n",
    "!pip install polars matplotlib seaborn"
   ]
  },
  {
   "cell_type": "markdown",
   "metadata": {},
   "source": [
    "# Polars Tutorial - 5 Minute Guide\n",
    "\n",
    "**Polars** is a lightning-fast DataFrame library built in Rust with Python bindings. It offers:\n",
    "- **Speed**: 10-100x faster than pandas for many operations\n",
    "- **Memory efficiency**: Lower memory usage with lazy evaluation\n",
    "- **Expressive API**: Clean, consistent syntax\n",
    "- **Parallel processing**: Built-in parallelization\n",
    "\n",
    "Perfect for large datasets, ETL pipelines, and performance-critical data processing."
   ]
  },
  {
   "cell_type": "code",
   "execution_count": null,
   "metadata": {},
   "outputs": [],
   "source": [
    "import polars as pl\n",
    "import matplotlib.pyplot as plt\n",
    "import seaborn as sns\n",
    "\n",
    "# Load CSV data\n",
    "df = pl.read_csv('synthetic_customers_120k.csv')\n",
    "\n",
    "# Alternative loading examples (commented):\n",
    "# df = pl.read_json('data.json')  # JSON files\n",
    "# df = pl.read_parquet('data.parquet')  # Parquet files (recommended for speed)\n",
    "# df = pl.read_excel('data.xlsx')  # Excel files\n",
    "\n",
    "# Create DataFrame from dictionary:\n",
    "# data = {'name': ['Alice', 'Bob'], 'age': [25, 30]}\n",
    "# df = pl.DataFrame(data)\n",
    "\n",
    "# Quick data exploration\n",
    "print(\"Dataset shape:\", df.shape)\n",
    "print(\"\\nColumn names:\")\n",
    "print(df.columns)\n",
    "print(\"\\nFirst 3 rows:\")\n",
    "df.head(3)"
   ]
  },
  {
   "cell_type": "code",
   "execution_count": null,
   "metadata": {},
   "outputs": [],
   "source": [
    "# Data overview and info\n",
    "print(\"Data types:\")\n",
    "print(df.dtypes)\n",
    "print(\"\\nSummary statistics:\")\n",
    "df.describe()"
   ]
  },
  {
   "cell_type": "markdown",
   "metadata": {},
   "source": [
    "## 📊 Data Visualization"
   ]
  },
  {
   "cell_type": "code",
   "execution_count": null,
   "metadata": {},
   "outputs": [],
   "source": [
    "# Convert to pandas for plotting (Polars doesn't have native plotting)\n",
    "df_pd = df.to_pandas()\n",
    "\n",
    "fig, axes = plt.subplots(2, 2, figsize=(12, 8))\n",
    "\n",
    "# Distribution of purchase values\n",
    "df_pd['avg_purchase_value'].hist(bins=50, ax=axes[0,0])\n",
    "axes[0,0].set_title('Purchase Value Distribution')\n",
    "\n",
    "# Customers by state (top 10)\n",
    "state_counts = df.select('state').group_by('state').len().sort('len', descending=True).head(10)\n",
    "state_counts_pd = state_counts.to_pandas()\n",
    "axes[0,1].bar(state_counts_pd['state'], state_counts_pd['len'])\n",
    "axes[0,1].set_title('Top 10 States by Customers')\n",
    "axes[0,1].tick_params(axis='x', rotation=45)\n",
    "\n",
    "# Scatter: purchases vs spending\n",
    "axes[1,0].scatter(df_pd['num_purchases'], df_pd['total_spent'], alpha=0.5)\n",
    "axes[1,0].set_xlabel('Number of Purchases')\n",
    "axes[1,0].set_ylabel('Total Spent')\n",
    "axes[1,0].set_title('Purchases vs Spending')\n",
    "\n",
    "# Category preferences\n",
    "category_counts = df.select('preferred_category').group_by('preferred_category').len()\n",
    "category_counts_pd = category_counts.to_pandas()\n",
    "axes[1,1].pie(category_counts_pd['len'], labels=category_counts_pd['preferred_category'])\n",
    "axes[1,1].set_title('Category Preferences')\n",
    "\n",
    "plt.tight_layout()\n",
    "plt.show()"
   ]
  },
  {
   "cell_type": "markdown",
   "metadata": {},
   "source": [
    "## 🔍 Data Filtering & Selection"
   ]
  },
  {
   "cell_type": "code",
   "execution_count": null,
   "metadata": {},
   "outputs": [],
   "source": [
    "# Filter by state (Polars expressive syntax)\n",
    "california_customers = df.filter(pl.col('state') == 'CA')\n",
    "print(f\"California customers: {len(california_customers)}\")\n",
    "\n",
    "# Multiple conditions with & operator\n",
    "high_value = df.filter(\n",
    "    (pl.col('total_spent') > 1000) & \n",
    "    (pl.col('account_status') == 'Active')\n",
    ")\n",
    "print(f\"High-value active customers: {len(high_value)}\")\n",
    "\n",
    "# Select specific columns\n",
    "customer_summary = df.select([\n",
    "    'first_name', 'last_name', 'state', 'total_spent'\n",
    "]).head(5)\n",
    "print(\"\\nCustomer summary:\")\n",
    "customer_summary"
   ]
  },
  {
   "cell_type": "markdown",
   "metadata": {},
   "source": [
    "## 📈 GroupBy Analysis"
   ]
  },
  {
   "cell_type": "code",
   "execution_count": null,
   "metadata": {},
   "outputs": [],
   "source": [
    "# Group by state - key metrics (Polars efficient aggregation)\n",
    "state_stats = df.group_by('state').agg([\n",
    "    pl.col('customer_id').len().alias('customer_count'),\n",
    "    pl.col('total_spent').mean().round(2).alias('avg_spent'),\n",
    "    pl.col('total_spent').sum().round(2).alias('total_revenue'),\n",
    "    pl.col('avg_purchase_value').mean().round(2).alias('avg_purchase_value'),\n",
    "    pl.col('loyalty_points').mean().round(2).alias('avg_loyalty')\n",
    "])\n",
    "\n",
    "print(\"Top 10 states by total revenue:\")\n",
    "state_stats.sort('total_revenue', descending=True).head(10)"
   ]
  },
  {
   "cell_type": "code",
   "execution_count": null,
   "metadata": {},
   "outputs": [],
   "source": [
    "# Category analysis with Polars expressions\n",
    "category_analysis = df.group_by('preferred_category').agg([\n",
    "    pl.col('customer_id').len().alias('customers'),\n",
    "    pl.col('total_spent').mean().round(2).alias('avg_spent'),\n",
    "    pl.col('num_purchases').mean().round(2).alias('avg_purchases'),\n",
    "    pl.col('loyalty_points').mean().round(2).alias('avg_loyalty')\n",
    "])\n",
    "\n",
    "print(\"Category performance:\")\n",
    "category_analysis.sort('avg_spent', descending=True)"
   ]
  },
  {
   "cell_type": "markdown",
   "metadata": {},
   "source": [
    "## 💾 Data Export"
   ]
  },
  {
   "cell_type": "code",
   "execution_count": null,
   "metadata": {},
   "outputs": [],
   "source": [
    "# Export filtered data\n",
    "high_value.write_csv('high_value_customers_polars.csv')\n",
    "print(f\"Exported {len(high_value)} high-value customers to CSV\")\n",
    "\n",
    "# Export to Parquet (recommended for performance)\n",
    "state_stats.write_parquet('state_analysis_polars.parquet')\n",
    "print(\"Exported state analysis to Parquet\")\n",
    "\n",
    "# Other export formats:\n",
    "# df.write_json('data.json')  # JSON\n",
    "# df.write_excel('data.xlsx')  # Excel (requires xlsxwriter)\n",
    "# df.write_ndjson('data.ndjson')  # Newline-delimited JSON"
   ]
  },
  {
   "cell_type": "markdown",
   "metadata": {},
   "source": [
    "## ⚡ Essential Operations"
   ]
  },
  {
   "cell_type": "code",
   "execution_count": null,
   "metadata": {},
   "outputs": [],
   "source": [
    "# Data cleaning - check for nulls\n",
    "print(\"Missing values per column:\")\n",
    "null_counts = df.select([\n",
    "    pl.all().null_count()\n",
    "])\n",
    "print(null_counts)\n",
    "\n",
    "# Create new calculated columns\n",
    "df_enhanced = df.with_columns([\n",
    "    (pl.col('total_spent') / pl.col('num_purchases')).alias('purchase_efficiency'),\n",
    "    (pl.col('total_spent') > pl.col('total_spent').quantile(0.75)).alias('is_premium')\n",
    "])\n",
    "\n",
    "# Quick value counts\n",
    "print(\"\\nAccount status distribution:\")\n",
    "print(df.select('account_status').group_by('account_status').len().sort('len', descending=True))\n",
    "\n",
    "print(\"\\nTop 5 cities:\")\n",
    "print(df.select('city').group_by('city').len().sort('len', descending=True).head(5))"
   ]
  },
  {
   "cell_type": "code",
   "execution_count": null,
   "metadata": {},
   "outputs": [],
   "source": [
    "# Correlation analysis\n",
    "numeric_cols = ['num_purchases', 'avg_purchase_value', 'total_spent', 'loyalty_points']\n",
    "correlation_data = df.select(numeric_cols).to_pandas().corr()\n",
    "\n",
    "plt.figure(figsize=(8, 6))\n",
    "sns.heatmap(correlation_data, annot=True, cmap='coolwarm', center=0)\n",
    "plt.title('Feature Correlations')\n",
    "plt.show()\n",
    "\n",
    "print(\"Polars analysis complete! ⚡\")"
   ]
  },
  {
   "cell_type": "markdown",
   "metadata": {},
   "source": [
    "## 🚀 Polars Advantages Showcase"
   ]
  },
  {
   "cell_type": "code",
   "execution_count": null,
   "metadata": {},
   "outputs": [],
   "source": [
    "# Lazy evaluation example - build query without execution\n",
    "lazy_query = (\n",
    "    pl.scan_csv('synthetic_customers_120k.csv')  # Lazy loading\n",
    "    .filter(pl.col('account_status') == 'Active')\n",
    "    .group_by('state')\n",
    "    .agg([\n",
    "        pl.col('total_spent').sum().alias('revenue'),\n",
    "        pl.col('customer_id').len().alias('customers')\n",
    "    ])\n",
    "    .sort('revenue', descending=True)\n",
    "    .head(5)\n",
    ")\n",
    "\n",
    "print(\"Lazy query plan:\")\n",
    "print(lazy_query.explain())\n",
    "print(\"\\nQuery results:\")\n",
    "print(lazy_query.collect())  # Execute the query"
   ]
  },
  {
   "cell_type": "code",
   "execution_count": null,
   "metadata": {},
   "outputs": [],
   "source": [
    "# String operations and expressions\n",
    "email_analysis = df.select([\n",
    "    'email',\n",
    "    pl.col('email').str.extract(r'@(.+)', 1).alias('domain'),\n",
    "    pl.concat_str([pl.col('first_name'), pl.lit(' '), pl.col('last_name')]).alias('full_name')\n",
    "]).head(5)\n",
    "\n",
    "print(\"String operations:\")\n",
    "print(email_analysis)\n",
    "\n",
    "print(\"\\nPolars is ready for high-performance data processing! 🔥\")"
   ]
  },
  {
   "cell_type": "code",
   "execution_count": null,
   "metadata": {},
   "outputs": [],
   "source": []
  },
  {
   "cell_type": "code",
   "execution_count": null,
   "metadata": {},
   "outputs": [],
   "source": []
  },
  {
   "cell_type": "code",
   "execution_count": null,
   "metadata": {},
   "outputs": [],
   "source": []
  }
 ],
 "metadata": {
  "kernelspec": {
   "display_name": "Python 3 (ipykernel)",
   "language": "python",
   "name": "python3"
  },
  "language_info": {
   "codemirror_mode": {
    "name": "ipython",
    "version": 3
   },
   "file_extension": ".py",
   "mimetype": "text/x-python",
   "name": "python",
   "nbconvert_exporter": "python",
   "pygments_lexer": "ipython3",
   "version": "3.11.10"
  }
 },
 "nbformat": 4,
 "nbformat_minor": 4
}
