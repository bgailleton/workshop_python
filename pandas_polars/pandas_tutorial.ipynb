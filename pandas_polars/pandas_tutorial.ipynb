{
 "cells": [
  {
   "cell_type": "code",
   "execution_count": null,
   "metadata": {},
   "outputs": [],
   "source": [
    "# Install pandas and visualization libraries\n",
    "!pip install pandas matplotlib seaborn"
   ]
  },
  {
   "cell_type": "markdown",
   "metadata": {},
   "source": [
    "# Pandas Tutorial - 5 Minute Guide\n",
    "\n",
    "**Pandas** is the most popular Python library for data manipulation and analysis. It provides:\n",
    "- Fast, flexible data structures (DataFrame, Series)\n",
    "- Data cleaning and transformation tools\n",
    "- Built-in visualization capabilities\n",
    "- Excellent integration with the Python ecosystem\n",
    "\n",
    "Perfect for data analysis, reporting, and exploratory data analysis (EDA)."
   ]
  },
  {
   "cell_type": "code",
   "execution_count": null,
   "metadata": {},
   "outputs": [],
   "source": [
    "import pandas as pd\n",
    "import matplotlib.pyplot as plt\n",
    "import seaborn as sns\n",
    "\n",
    "# Load CSV data\n",
    "df = pd.read_csv('synthetic_customers_120k.csv')\n",
    "\n",
    "# Alternative loading examples (commented):\n",
    "# df = pd.read_json('data.json')  # JSON files\n",
    "# df = pd.read_excel('data.xlsx')  # Excel files\n",
    "# df = pd.read_parquet('data.parquet')  # Parquet files\n",
    "\n",
    "# Create DataFrame from dictionary:\n",
    "# data = {'name': ['Alice', 'Bob'], 'age': [25, 30]}\n",
    "# df = pd.DataFrame(data)\n",
    "\n",
    "# Quick data exploration\n",
    "print(\"Dataset shape:\", df.shape)\n",
    "print(\"\\nColumn names:\")\n",
    "print(df.columns.tolist())\n",
    "print(\"\\nFirst 3 rows:\")\n",
    "df.head(3) # Nicely show the column"
   ]
  },
  {
   "cell_type": "code",
   "execution_count": null,
   "metadata": {},
   "outputs": [],
   "source": [
    "# Data overview and info\n",
    "print(\"Data types:\")\n",
    "print(df.dtypes)\n",
    "print(\"\\nSummary statistics:\")\n",
    "df.describe()"
   ]
  },
  {
   "cell_type": "markdown",
   "metadata": {},
   "source": [
    "## 📊 Data Visualization"
   ]
  },
  {
   "cell_type": "code",
   "execution_count": null,
   "metadata": {},
   "outputs": [],
   "source": [
    "# Quick plots\n",
    "fig, axes = plt.subplots(2, 2, figsize=(12, 8))\n",
    "\n",
    "# Distribution of purchase values\n",
    "df['avg_purchase_value'].hist(bins=50, ax=axes[0,0])\n",
    "axes[0,0].set_title('Purchase Value Distribution')\n",
    "\n",
    "# Customers by state (top 10)\n",
    "df['state'].value_counts().head(10).plot(kind='bar', ax=axes[0,1])\n",
    "axes[0,1].set_title('Top 10 States by Customers')\n",
    "\n",
    "# Scatter: purchases vs spending\n",
    "axes[1,0].scatter(df['num_purchases'], df['total_spent'], alpha=0.5)\n",
    "axes[1,0].set_xlabel('Number of Purchases')\n",
    "axes[1,0].set_ylabel('Total Spent')\n",
    "axes[1,0].set_title('Purchases vs Spending')\n",
    "\n",
    "# Category preferences\n",
    "df['preferred_category'].value_counts().plot(kind='pie', ax=axes[1,1])\n",
    "axes[1,1].set_title('Category Preferences')\n",
    "\n",
    "plt.tight_layout()\n",
    "plt.show()"
   ]
  },
  {
   "cell_type": "markdown",
   "metadata": {},
   "source": [
    "## 🔍 Data Filtering & Selection"
   ]
  },
  {
   "cell_type": "code",
   "execution_count": null,
   "metadata": {},
   "outputs": [],
   "source": [
    "# Filter by state\n",
    "california_customers = df[df['state'] == 'CA']\n",
    "print(f\"California customers: {len(california_customers)}\")\n",
    "\n",
    "# Multiple conditions AND -> &; OR -> |; each condition in ()\n",
    "high_value = df[(df['total_spent'] > 1000) & (df['account_status'] == 'Active')]\n",
    "print(f\"High-value active customers: {len(high_value)}\")\n",
    "\n",
    "# Select specific columns, note the double list\n",
    "customer_summary = df[['first_name', 'last_name', 'state', 'total_spent']].head()\n",
    "print(\"\\nCustomer summary:\")\n",
    "customer_summary"
   ]
  },
  {
   "cell_type": "markdown",
   "metadata": {},
   "source": [
    "## 📈 GroupBy Analysis"
   ]
  },
  {
   "cell_type": "code",
   "execution_count": null,
   "metadata": {},
   "outputs": [],
   "source": [
    "# Group by state - key metrics - agg stands for aggregate a very common operation\n",
    "state_stats = df.groupby('state').agg({\n",
    "    'customer_id': 'count',\n",
    "    'total_spent': ['mean', 'sum'],\n",
    "    'avg_purchase_value': 'mean',\n",
    "    'loyalty_points': 'mean'\n",
    "}).round(2)\n",
    "\n",
    "print(\"Top 10 states by total revenue:\")\n",
    "state_stats.sort_values(('total_spent', 'sum'), ascending=False).head(10)"
   ]
  },
  {
   "cell_type": "code",
   "execution_count": null,
   "metadata": {},
   "outputs": [],
   "source": [
    "# Category analysis\n",
    "category_analysis = df.groupby('preferred_category').agg({\n",
    "    'customer_id': 'count',\n",
    "    'total_spent': 'mean',\n",
    "    'num_purchases': 'mean',\n",
    "    'loyalty_points': 'mean'\n",
    "}).round(2)\n",
    "\n",
    "category_analysis.columns = ['Customers', 'Avg_Spent', 'Avg_Purchases', 'Avg_Loyalty']\n",
    "print(\"Category performance:\")\n",
    "category_analysis"
   ]
  },
  {
   "cell_type": "markdown",
   "metadata": {},
   "source": [
    "## 💾 Data Export"
   ]
  },
  {
   "cell_type": "code",
   "execution_count": null,
   "metadata": {},
   "outputs": [],
   "source": [
    "# Export filtered data\n",
    "high_value.to_csv('high_value_customers.csv', index=False)\n",
    "print(f\"Exported {len(high_value)} high-value customers to CSV\")\n",
    "\n",
    "# Export summary stats\n",
    "state_stats.to_excel('state_analysis.xlsx')\n",
    "print(\"Exported state analysis to Excel\")\n",
    "\n",
    "# Other export formats:\n",
    "# df.to_json('data.json')  # JSON\n",
    "# df.to_parquet('data.parquet')  # Parquet (efficient)\n",
    "# df.to_html('report.html')  # HTML table"
   ]
  },
  {
   "cell_type": "markdown",
   "metadata": {},
   "source": [
    "## ⚡ Essential Operations"
   ]
  },
  {
   "cell_type": "code",
   "execution_count": null,
   "metadata": {},
   "outputs": [],
   "source": [
    "# Data cleaning\n",
    "print(\"Missing values per column:\")\n",
    "print(df.isnull().sum())\n",
    "\n",
    "# Create new calculated columns\n",
    "df['purchase_efficiency'] = df['total_spent'] / df['num_purchases']\n",
    "df['is_premium'] = df['total_spent'] > df['total_spent'].quantile(0.75)\n",
    "\n",
    "# Quick value counts\n",
    "print(\"\\nAccount status distribution:\")\n",
    "print(df['account_status'].value_counts())\n",
    "\n",
    "print(\"\\nTop 5 cities:\")\n",
    "print(df['city'].value_counts().head())"
   ]
  },
  {
   "cell_type": "code",
   "execution_count": null,
   "metadata": {},
   "outputs": [],
   "source": [
    "# Quick correlation analysis\n",
    "numeric_cols = ['num_purchases', 'avg_purchase_value', 'total_spent', 'loyalty_points']\n",
    "correlation_matrix = df[numeric_cols].corr()\n",
    "\n",
    "plt.figure(figsize=(8, 6))\n",
    "sns.heatmap(correlation_matrix, annot=True, cmap='coolwarm', center=0)\n",
    "plt.title('Feature Correlations')\n",
    "plt.show()\n",
    "\n",
    "print(\"Dataset ready for analysis! 🚀\")"
   ]
  }
 ],
 "metadata": {
  "kernelspec": {
   "display_name": "Python 3 (ipykernel)",
   "language": "python",
   "name": "python3"
  },
  "language_info": {
   "codemirror_mode": {
    "name": "ipython",
    "version": 3
   },
   "file_extension": ".py",
   "mimetype": "text/x-python",
   "name": "python",
   "nbconvert_exporter": "python",
   "pygments_lexer": "ipython3",
   "version": "3.11.10"
  }
 },
 "nbformat": 4,
 "nbformat_minor": 4
}
