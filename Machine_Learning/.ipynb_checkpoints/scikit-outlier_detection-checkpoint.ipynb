{
 "cells": [
  {
   "cell_type": "code",
   "execution_count": null,
   "id": "d5157178-263c-4d88-873c-e0f338c16f81",
   "metadata": {},
   "outputs": [],
   "source": [
    "import numpy as np\n",
    "import matplotlib.pyplot as plt\n",
    "from sklearn.datasets import make_moons\n",
    "from sklearn.ensemble import IsolationForest\n",
    "from sklearn.neighbors import LocalOutlierFactor\n",
    "\n",
    "%matplotlib widget\n",
    "\n",
    "# 1) Data: 2D moon + injected outliers\n",
    "rng = np.random.default_rng(42)\n",
    "X, _ = make_moons(n_samples=600, noise=0.08, random_state=0)\n",
    "n_out = 15\n",
    "outliers = rng.uniform(low=[-2.0, -1.5], high=[2.5, 2.0], size=(n_out, 2))\n",
    "X_all = np.vstack([X, outliers])\n",
    "\n",
    "fig,ax = plt.subplots()\n",
    "ax.scatter(X_all[:,0], X_all[:,1], lw = 1, edgecolors='k', s = 20)\n",
    "ax.set_xlabel('x1')\n",
    "ax.set_ylabel('x2')"
   ]
  },
  {
   "cell_type": "code",
   "execution_count": null,
   "id": "f87db5ec-0007-41ce-9eb6-35003d86cb26",
   "metadata": {},
   "outputs": [],
   "source": [
    "# 2) Fit IsolationForest\n",
    "iso = IsolationForest(\n",
    "    n_estimators=200, max_samples=256, contamination=0.02,\n",
    "    random_state=42, n_jobs=-1\n",
    ").fit(X_all)\n",
    "\n",
    "# Anomaly score: higher = more normal in scikit (-score_ if you prefer)\n",
    "score = iso.decision_function(X_all)  # ~0 normal, negative = outlier\n",
    "pred = iso.predict(X_all)             # 1 = inlier, -1 = outlier\n",
    "\n",
    "# 3) (Optional) quick comparator (unsupervised too)\n",
    "lof = LocalOutlierFactor(n_neighbors=20, contamination=0.02)\n",
    "pred_lof = lof.fit_predict(X_all)  # 1 / -1\n",
    "\n",
    "# 4) Plot decision function as a contour\n",
    "xx, yy = np.meshgrid(np.linspace(-2.2, 3.0, 400), np.linspace(-1.8, 2.2, 400))\n",
    "grid = np.c_[xx.ravel(), yy.ravel()]\n",
    "zz = iso.decision_function(grid).reshape(xx.shape)\n",
    "\n",
    "plt.figure(figsize=(7,5))\n",
    "# Heatmap of normality\n",
    "cs = plt.contourf(xx, yy, zz, levels=30, alpha=0.9)\n",
    "plt.colorbar(cs, label=\"IsolationForest decision_function (↑ more normal)\")\n",
    "\n",
    "# Inliers vs outliers (according to IF)\n",
    "inliers = X_all[pred == 1]\n",
    "outs    = X_all[pred == -1]\n",
    "plt.scatter(inliers[:,0], inliers[:,1], s=18, edgecolor='k', linewidths=0.2, label='inliers')\n",
    "plt.scatter(outs[:,0],    outs[:,1],    s=60, marker='x', linewidths=2, label='IF outliers')\n",
    "\n",
    "# Also show true injected outliers for drama\n",
    "plt.scatter(outliers[:,0], outliers[:,1], s=120, facecolors='none', edgecolors='red', linewidths=2, label='injected')\n",
    "\n",
    "plt.legend(loc='lower left')\n",
    "plt.title(\"Anomaly detection with IsolationForest\")\n",
    "plt.xlabel(\"x1\"); plt.ylabel(\"x2\")\n",
    "plt.tight_layout(); plt.show()\n",
    "\n",
    "# 5) Try new points live\n",
    "X_new = np.array([[0.5, 1.0], [2.0, 1.8], [-1.5, -1.2]])  # edit during the talk\n",
    "print(\"New points →\", X_new.tolist())\n",
    "print(\"IF prediction (1=inlier, -1=outlier):\", iso.predict(X_new).tolist())\n",
    "print(\"IF decision_function:\", np.round(iso.decision_function(X_new), 3).tolist())\n",
    "\n",
    "# 6) Quick note on LOF agreement (optional)\n",
    "agree = (pred_lof == pred)\n",
    "print(f\"LOF agrees with IF on {agree.mean()*100:.1f}% of points.\")"
   ]
  },
  {
   "cell_type": "code",
   "execution_count": null,
   "id": "12e82d14-e123-4aaa-9206-8fc99720d328",
   "metadata": {},
   "outputs": [],
   "source": []
  }
 ],
 "metadata": {
  "kernelspec": {
   "display_name": "Python 3 (ipykernel)",
   "language": "python",
   "name": "python3"
  },
  "language_info": {
   "codemirror_mode": {
    "name": "ipython",
    "version": 3
   },
   "file_extension": ".py",
   "mimetype": "text/x-python",
   "name": "python",
   "nbconvert_exporter": "python",
   "pygments_lexer": "ipython3",
   "version": "3.11.10"
  }
 },
 "nbformat": 4,
 "nbformat_minor": 5
}
