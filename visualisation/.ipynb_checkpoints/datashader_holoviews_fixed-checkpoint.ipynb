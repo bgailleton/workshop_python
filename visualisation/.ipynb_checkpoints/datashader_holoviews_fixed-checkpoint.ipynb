{
 "cells": [
  {
   "cell_type": "code",
   "execution_count": null,
   "id": "4d677270",
   "metadata": {},
   "outputs": [],
   "source": [
    "\n",
    "# Installation (keep this for portability; skip if already installed)\n",
    "# Use your own env or uncomment below.\n",
    "# !pip install --upgrade pip\n",
    "# !pip install datashader holoviews bokeh hvplot colorcet pandas numpy\n"
   ]
  },
  {
   "cell_type": "markdown",
   "id": "cdff7b91",
   "metadata": {},
   "source": [
    "\n",
    "# Datashader + HoloViews — Fast, Interactive, No Matplotlib\n",
    "This notebook uses **Datashader** with **HoloViews**/**Bokeh** to render massive datasets quickly.\n",
    "- No Matplotlib.\n",
    "- Works with millions of points via server-side rasterization.\n",
    "- Switch between **datashade** (on-the-fly) and **rasterize** (pre-aggregated) as needed.\n"
   ]
  },
  {
   "cell_type": "code",
   "execution_count": null,
   "id": "0d9b2abc",
   "metadata": {},
   "outputs": [],
   "source": [
    "\n",
    "import numpy as np, pandas as pd\n",
    "import holoviews as hv\n",
    "import hvplot.pandas  # noqa: F401 registers hvplot\n",
    "from holoviews.operation.datashader import datashade, rasterize, shade, dynspread\n",
    "import datashader as ds\n",
    "import colorcet as cc\n",
    "\n",
    "hv.extension(\"bokeh\")\n",
    "hv.opts.defaults(\n",
    "    hv.opts.RGB(width=800, height=600),\n",
    "    hv.opts.Points(width=800, height=600, tools=[\"hover\", \"box_zoom\", \"wheel_zoom\", \"pan\", \"reset\"]),\n",
    "    hv.opts.Curve(width=900, height=300, tools=[\"hover\", \"box_zoom\", \"wheel_zoom\", \"pan\", \"reset\"]),\n",
    ")\n",
    "print(\"Versions -> HoloViews:\", hv.__version__, \"| Datashader:\", ds.__version__)\n"
   ]
  },
  {
   "cell_type": "markdown",
   "id": "7ecbae6d",
   "metadata": {},
   "source": [
    "## Generate synthetic datasets"
   ]
  },
  {
   "cell_type": "code",
   "execution_count": null,
   "id": "76774d86",
   "metadata": {},
   "outputs": [],
   "source": [
    "\n",
    "rng = np.random.default_rng(42)\n",
    "\n",
    "def gen_points(n, name):\n",
    "    x = rng.normal(0, 1, n)\n",
    "    y = 0.5 * x + rng.normal(0, 1, n)\n",
    "    cat = rng.choice(list(\"ABC\"), n, p=[0.5, 0.3, 0.2])\n",
    "    return pd.DataFrame({\"x\": x, \"y\": y, \"category\": cat, \"set\": name})\n",
    "\n",
    "small = gen_points(100_000, \"small\")\n",
    "big = gen_points(5_000_000, \"big\")  # 5M points – shows datashader benefits\n",
    "small.shape, big.shape\n"
   ]
  },
  {
   "cell_type": "markdown",
   "id": "52adbe42",
   "metadata": {},
   "source": [
    "## Massive scatter — Datashade (on the fly)"
   ]
  },
  {
   "cell_type": "code",
   "execution_count": null,
   "id": "37672a69",
   "metadata": {},
   "outputs": [],
   "source": [
    "\n",
    "points = hv.Points(big, kdims=[\"x\",\"y\"], vdims=[\"category\"])\n",
    "\n",
    "# datashade: aggregates dynamically to current viewport\n",
    "shaded = datashade(points, cmap=cc.fire, aggregator=ds.count(), width=900, height=600)\n",
    "dyn = dynspread(shaded, threshold=0.5, max_px=3)\n",
    "\n",
    "(dyn.relabel(\"Datashader: 5M points (count)\")\n",
    " .opts(active_tools=[\"wheel_zoom\"]))\n"
   ]
  },
  {
   "cell_type": "markdown",
   "id": "0b0069a1",
   "metadata": {},
   "source": [
    "## Categorical density — count per class with datashader"
   ]
  },
  {
   "cell_type": "code",
   "execution_count": null,
   "id": "d71b5305",
   "metadata": {},
   "outputs": [],
   "source": [
    "\n",
    "cat_agg = datashade(points, aggregator=ds.count_cat(\"category\"), color_key={\"A\":\"#3b82f6\",\"B\":\"#10b981\",\"C\":\"#ef4444\"},\n",
    "                    width=900, height=600)\n",
    "dynspread(cat_agg).relabel(\"Datashader: categorical count (A/B/C)\")\n"
   ]
  },
  {
   "cell_type": "markdown",
   "id": "a86e49c3",
   "metadata": {},
   "source": [
    "## Rasterize (pre-aggregated binning) for stable interactions"
   ]
  },
  {
   "cell_type": "code",
   "execution_count": null,
   "id": "18418cb5",
   "metadata": {},
   "outputs": [],
   "source": [
    "\n",
    "ras = rasterize(points, aggregator=ds.count(), width=900, height=600).opts(colorbar=True, cmap=cc.fire)\n",
    "ras.relabel(\"Rasterize: 5M points (count)\")\n"
   ]
  },
  {
   "cell_type": "markdown",
   "id": "638cdeed",
   "metadata": {},
   "source": [
    "## Time series — 1M points downsampled via Datashader"
   ]
  },
  {
   "cell_type": "code",
   "execution_count": null,
   "id": "f29aebe3",
   "metadata": {},
   "outputs": [],
   "source": [
    "\n",
    "n = 1_000_000\n",
    "t = pd.date_range(\"2020-01-01\", periods=n, freq=\"S\")\n",
    "v = np.sin(np.linspace(0, 400*np.pi, n)) + 0.1 * rng.normal(size=n)\n",
    "ts = pd.DataFrame({\"t\": t, \"v\": v})\n",
    "\n",
    "curve = hv.Curve(ts, kdims=\"t\", vdims=\"v\")\n",
    "ts_ds = datashade(curve, aggregator=ds.any())  # or ds.mean(\"v\") after rasterize\n",
    "ts_ds.relabel(\"Datashader: 1M-point time series\")\n"
   ]
  },
  {
   "cell_type": "markdown",
   "id": "db378011",
   "metadata": {},
   "source": [
    "## Linked zoom & inspect (Points + datashade background)"
   ]
  },
  {
   "cell_type": "code",
   "execution_count": null,
   "id": "4f5dc2cc",
   "metadata": {},
   "outputs": [],
   "source": [
    "\n",
    "# Overlay raw subsample for tooltips over a datashaded background for speed\n",
    "subsample = big.sample(50_000, random_state=1)\n",
    "raw_pts = hv.Points(subsample, kdims=[\"x\",\"y\"], vdims=[\"category\"]).opts(size=4, alpha=0.3, color=\"category\")\n",
    "bg = datashade(points, cmap=cc.kbc, aggregator=ds.count())\n",
    "(bg * raw_pts).relabel(\"Hybrid: datashade background + sampled points with hover\")\n"
   ]
  },
  {
   "cell_type": "markdown",
   "id": "bbc36066",
   "metadata": {},
   "source": [
    "## Tips"
   ]
  },
  {
   "cell_type": "markdown",
   "id": "206880e4",
   "metadata": {},
   "source": [
    "\n",
    "- Prefer **`datashade()`** for dynamic aggregation when panning/zooming huge clouds.\n",
    "- Use **`rasterize()`** for stable tiling and colorbars.\n",
    "- For categories: `aggregator=ds.count_cat(\"category\")` with a `color_key`.\n",
    "- Combine **datashaded background** with a **small raw subsample** for rich hovers without killing performance.\n",
    "- No Matplotlib anywhere.\n"
   ]
  }
 ],
 "metadata": {},
 "nbformat": 4,
 "nbformat_minor": 5
}
