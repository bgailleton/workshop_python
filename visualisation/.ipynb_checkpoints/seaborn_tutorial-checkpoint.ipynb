{
 "cells": [
  {
   "cell_type": "code",
   "execution_count": null,
   "metadata": {},
   "outputs": [],
   "source": [
    "# Install seaborn and required packages\n",
    "!pip install seaborn matplotlib pandas numpy scipy"
   ]
  },
  {
   "cell_type": "markdown",
   "metadata": {},
   "source": [
    "# Seaborn Tutorial - Statistical Data Visualization\n",
    "\n",
    "**Seaborn** is a statistical data visualization library built on matplotlib. It provides:\n",
    "- Beautiful default styles and color palettes\n",
    "- High-level interface for statistical graphics\n",
    "- Built-in support for pandas DataFrames\n",
    "- Advanced statistical plotting functions\n",
    "\n",
    "Perfect for exploratory data analysis and statistical visualization."
   ]
  },
  {
   "cell_type": "code",
   "execution_count": null,
   "metadata": {},
   "outputs": [],
   "source": [
    "import seaborn as sns\n",
    "import matplotlib.pyplot as plt\n",
    "import pandas as pd\n",
    "import numpy as np\n",
    "from scipy import stats\n",
    "\n",
    "# Set seaborn style\n",
    "sns.set_theme(style=\"whitegrid\")\n",
    "\n",
    "# Load built-in datasets for demonstration\n",
    "tips = sns.load_dataset(\"tips\")\n",
    "flights = sns.load_dataset(\"flights\")\n",
    "iris = sns.load_dataset(\"iris\")\n",
    "mpg = sns.load_dataset(\"mpg\")\n",
    "\n",
    "print(\"Seaborn setup complete!\")\n",
    "print(f\"Tips dataset shape: {tips.shape}\")\n",
    "print(f\"Flights dataset shape: {flights.shape}\")\n",
    "print(f\"Iris dataset shape: {iris.shape}\")"
   ]
  },
  {
   "cell_type": "markdown",
   "metadata": {},
   "source": [
    "## 📊 Distribution Plots"
   ]
  },
  {
   "cell_type": "code",
   "execution_count": null,
   "metadata": {},
   "outputs": [],
   "source": [
    "fig, axes = plt.subplots(2, 2, figsize=(15, 10))\n",
    "\n",
    "# Histogram with KDE\n",
    "sns.histplot(tips['total_bill'], kde=True, ax=axes[0,0])\n",
    "axes[0,0].set_title('Histogram with KDE')\n",
    "\n",
    "# KDE plot only\n",
    "sns.kdeplot(data=tips, x='total_bill', hue='time', ax=axes[0,1])\n",
    "axes[0,1].set_title('KDE by Time of Day')\n",
    "\n",
    "# Distribution plot with rug\n",
    "sns.histplot(tips['tip'], kde=True, ax=axes[1,0])\n",
    "sns.rugplot(tips['tip'], ax=axes[1,0])\n",
    "axes[1,0].set_title('Distribution with Rug Plot')\n",
    "\n",
    "# Multiple distributions\n",
    "for day in tips['day'].unique():\n",
    "    subset = tips[tips['day'] == day]\n",
    "    sns.kdeplot(subset['total_bill'], label=day, ax=axes[1,1])\n",
    "axes[1,1].set_title('KDE by Day')\n",
    "axes[1,1].legend()\n",
    "\n",
    "plt.tight_layout()\n",
    "plt.show()"
   ]
  },
  {
   "cell_type": "markdown",
   "metadata": {},
   "source": [
    "## 🎯 Relationship Plots"
   ]
  },
  {
   "cell_type": "code",
   "execution_count": null,
   "metadata": {},
   "outputs": [],
   "source": [
    "fig, axes = plt.subplots(2, 2, figsize=(15, 10))\n",
    "\n",
    "# Scatter plot with regression\n",
    "sns.scatterplot(data=tips, x='total_bill', y='tip', hue='time', \n",
    "                size='size', ax=axes[0,0])\n",
    "axes[0,0].set_title('Scatter with Categories')\n",
    "\n",
    "# Regression plot\n",
    "sns.regplot(data=tips, x='total_bill', y='tip', ax=axes[0,1])\n",
    "axes[0,1].set_title('Regression Plot')\n",
    "\n",
    "# Joint plot style (using individual plot)\n",
    "sns.scatterplot(data=tips, x='total_bill', y='tip', alpha=0.6, ax=axes[1,0])\n",
    "axes[1,0].axhline(tips['tip'].mean(), color='red', linestyle='--', label='Mean Tip')\n",
    "axes[1,0].axvline(tips['total_bill'].mean(), color='red', linestyle='--', label='Mean Bill')\n",
    "axes[1,0].set_title('Scatter with Mean Lines')\n",
    "axes[1,0].legend()\n",
    "\n",
    "# Residual plot\n",
    "sns.residplot(data=tips, x='total_bill', y='tip', ax=axes[1,1])\n",
    "axes[1,1].set_title('Residual Plot')\n",
    "\n",
    "plt.tight_layout()\n",
    "plt.show()"
   ]
  },
  {
   "cell_type": "markdown",
   "metadata": {},
   "source": [
    "## 📈 Categorical Plots"
   ]
  },
  {
   "cell_type": "code",
   "execution_count": null,
   "metadata": {},
   "outputs": [],
   "source": [
    "fig, axes = plt.subplots(2, 3, figsize=(18, 10))\n",
    "\n",
    "# Box plot\n",
    "sns.boxplot(data=tips, x='day', y='total_bill', ax=axes[0,0])\n",
    "axes[0,0].set_title('Box Plot')\n",
    "\n",
    "# Violin plot\n",
    "sns.violinplot(data=tips, x='day', y='total_bill', ax=axes[0,1])\n",
    "axes[0,1].set_title('Violin Plot')\n",
    "\n",
    "# Strip plot\n",
    "sns.stripplot(data=tips, x='day', y='total_bill', size=4, ax=axes[0,2])\n",
    "axes[0,2].set_title('Strip Plot')\n",
    "\n",
    "# Swarm plot\n",
    "sns.swarmplot(data=tips, x='day', y='tip', ax=axes[1,0])\n",
    "axes[1,0].set_title('Swarm Plot')\n",
    "\n",
    "# Bar plot with error bars\n",
    "sns.barplot(data=tips, x='day', y='total_bill', estimator=np.mean, \n",
    "            ci=95, ax=axes[1,1])\n",
    "axes[1,1].set_title('Bar Plot with CI')\n",
    "\n",
    "# Point plot\n",
    "sns.pointplot(data=tips, x='day', y='total_bill', hue='time', ax=axes[1,2])\n",
    "axes[1,2].set_title('Point Plot')\n",
    "\n",
    "plt.tight_layout()\n",
    "plt.show()"
   ]
  },
  {
   "cell_type": "markdown",
   "metadata": {},
   "source": [
    "## 🌡️ Heatmaps and Matrix Plots"
   ]
  },
  {
   "cell_type": "code",
   "execution_count": null,
   "metadata": {},
   "outputs": [],
   "source": [
    "fig, axes = plt.subplots(2, 2, figsize=(15, 12))\n",
    "\n",
    "# Correlation heatmap\n",
    "numeric_tips = tips.select_dtypes(include=[np.number])\n",
    "sns.heatmap(numeric_tips.corr(), annot=True, cmap='coolwarm', center=0, \n",
    "            ax=axes[0,0])\n",
    "axes[0,0].set_title('Correlation Heatmap')\n",
    "\n",
    "# Pivot table heatmap\n",
    "flights_pivot = flights.pivot_table(values='passengers', index='month', columns='year')\n",
    "sns.heatmap(flights_pivot, cmap='YlOrRd', ax=axes[0,1])\n",
    "axes[0,1].set_title('Flight Passengers by Month/Year')\n",
    "\n",
    "# Clustermap data preparation\n",
    "iris_numeric = iris.select_dtypes(include=[np.number])\n",
    "sns.heatmap(iris_numeric.corr(), annot=True, cmap='viridis', ax=axes[1,0])\n",
    "axes[1,0].set_title('Iris Correlation Matrix')\n",
    "\n",
    "# Custom heatmap with different annotations\n",
    "tips_crosstab = pd.crosstab(tips['day'], tips['time'])\n",
    "sns.heatmap(tips_crosstab, annot=True, fmt='d', cmap='Blues', ax=axes[1,1])\n",
    "axes[1,1].set_title('Day vs Time Crosstab')\n",
    "\n",
    "plt.tight_layout()\n",
    "plt.show()"
   ]
  },
  {
   "cell_type": "markdown",
   "metadata": {},
   "source": [
    "## 🎨 Color Palettes and Themes"
   ]
  },
  {
   "cell_type": "code",
   "execution_count": null,
   "metadata": {},
   "outputs": [],
   "source": [
    "fig, axes = plt.subplots(2, 3, figsize=(18, 10))\n",
    "\n",
    "# Different color palettes\n",
    "palettes = ['deep', 'muted', 'bright', 'pastel', 'dark', 'colorblind']\n",
    "\n",
    "for i, palette in enumerate(palettes):\n",
    "    row = i // 3\n",
    "    col = i % 3\n",
    "    \n",
    "    sns.boxplot(data=iris, x='species', y='sepal_length', \n",
    "                palette=palette, ax=axes[row, col])\n",
    "    axes[row, col].set_title(f'Palette: {palette}')\n",
    "    axes[row, col].set_xlabel('')\n",
    "\n",
    "plt.tight_layout()\n",
    "plt.show()\n",
    "\n",
    "# Show available palettes\n",
    "print(\"Available Seaborn Palettes:\")\n",
    "palette_names = ['deep', 'muted', 'bright', 'pastel', 'dark', 'colorblind',\n",
    "                'Set1', 'Set2', 'tab10', 'husl', 'hls']\n",
    "for name in palette_names:\n",
    "    print(f\"  {name}\")"
   ]
  },
  {
   "cell_type": "markdown",
   "metadata": {},
   "source": [
    "## 📊 Multi-plot Grids"
   ]
  },
  {
   "cell_type": "code",
   "execution_count": null,
   "metadata": {},
   "outputs": [],
   "source": [
    "# FacetGrid - multiple plots based on categories\n",
    "g = sns.FacetGrid(tips, col='time', row='smoker', height=4, aspect=0.8)\n",
    "g.map(sns.scatterplot, 'total_bill', 'tip', alpha=0.7)\n",
    "g.add_legend()\n",
    "plt.show()\n",
    "\n",
    "# PairGrid - pairwise relationships\n",
    "g = sns.PairGrid(iris, hue='species', height=2.5)\n",
    "g.map_diag(sns.histplot)\n",
    "g.map_upper(sns.scatterplot)\n",
    "g.map_lower(sns.scatterplot)\n",
    "g.add_legend()\n",
    "plt.show()"
   ]
  },
  {
   "cell_type": "markdown",
   "metadata": {},
   "source": [
    "## 🔥 Advanced Statistical Plots"
   ]
  },
  {
   "cell_type": "code",
   "execution_count": null,
   "metadata": {},
   "outputs": [],
   "source": [
    "fig, axes = plt.subplots(2, 2, figsize=(15, 10))\n",
    "\n",
    "# Joint plot with different kinds\n",
    "# Create joint plot manually using individual components\n",
    "sns.scatterplot(data=tips, x='total_bill', y='tip', ax=axes[0,0])\n",
    "sns.histplot(tips['total_bill'], ax=axes[0,0].twinx(), alpha=0.3, color='orange')\n",
    "axes[0,0].set_title('Scatter with Marginal Histogram')\n",
    "\n",
    "# LM plot with different fits\n",
    "sns.regplot(data=tips, x='total_bill', y='tip', order=2, ax=axes[0,1])\n",
    "axes[0,1].set_title('Polynomial Regression')\n",
    "\n",
    "# Q-Q plot for normality testing\n",
    "from scipy import stats\n",
    "stats.probplot(tips['total_bill'], dist=\"norm\", plot=axes[1,0])\n",
    "axes[1,0].set_title('Q-Q Plot (Normality Test)')\n",
    "axes[1,0].grid(True)\n",
    "\n",
    "# Bootstrap confidence intervals\n",
    "sns.regplot(data=tips, x='total_bill', y='tip', \n",
    "            scatter_kws={'alpha':0.5}, \n",
    "            line_kws={'color':'red'}, ax=axes[1,1])\n",
    "axes[1,1].set_title('Regression with Bootstrap CI')\n",
    "\n",
    "plt.tight_layout()\n",
    "plt.show()"
   ]
  },
  {
   "cell_type": "markdown",
   "metadata": {},
   "source": [
    "## 📈 Time Series and Line Plots"
   ]
  },
  {
   "cell_type": "code",
   "execution_count": null,
   "metadata": {},
   "outputs": [],
   "source": [
    "fig, axes = plt.subplots(2, 2, figsize=(15, 10))\n",
    "\n",
    "# Line plot\n",
    "flights_year = flights.groupby('year')['passengers'].sum().reset_index()\n",
    "sns.lineplot(data=flights_year, x='year', y='passengers', \n",
    "             marker='o', ax=axes[0,0])\n",
    "axes[0,0].set_title('Total Passengers by Year')\n",
    "\n",
    "# Multiple lines\n",
    "sns.lineplot(data=flights, x='year', y='passengers', hue='month', \n",
    "             ax=axes[0,1])\n",
    "axes[0,1].set_title('Passengers by Month Over Years')\n",
    "axes[0,1].legend(bbox_to_anchor=(1.05, 1), loc='upper left')\n",
    "\n",
    "# Area plot simulation\n",
    "monthly_avg = flights.groupby('month')['passengers'].mean()\n",
    "axes[1,0].fill_between(monthly_avg.index, monthly_avg.values, alpha=0.7)\n",
    "axes[1,0].plot(monthly_avg.index, monthly_avg.values, color='black', linewidth=2)\n",
    "axes[1,0].set_title('Average Passengers by Month')\n",
    "axes[1,0].set_xlabel('Month')\n",
    "\n",
    "# Error bands\n",
    "np.random.seed(42)\n",
    "x_time = np.arange(1, 13)\n",
    "y_mean = monthly_avg.values\n",
    "y_std = y_mean * 0.1  # Simulate standard deviation\n",
    "axes[1,1].plot(x_time, y_mean, 'b-', linewidth=2)\n",
    "axes[1,1].fill_between(x_time, y_mean - y_std, y_mean + y_std, \n",
    "                      alpha=0.3, color='blue')\n",
    "axes[1,1].set_title('Time Series with Error Bands')\n",
    "axes[1,1].set_xlabel('Month')\n",
    "\n",
    "plt.tight_layout()\n",
    "plt.show()"
   ]
  },
  {
   "cell_type": "markdown",
   "metadata": {},
   "source": [
    "## 🎯 High-Level Plot Functions"
   ]
  },
  {
   "cell_type": "code",
   "execution_count": null,
   "metadata": {},
   "outputs": [],
   "source": [
    "# Pairplot - all pairwise relationships\n",
    "g = sns.pairplot(iris, hue='species', height=2.5)\n",
    "plt.show()\n",
    "\n",
    "# Jointplot - bivariate analysis\n",
    "g = sns.jointplot(data=tips, x='total_bill', y='tip', kind='reg', height=8)\n",
    "plt.show()\n",
    "\n",
    "# Clustermap - hierarchical clustering\n",
    "iris_matrix = iris.select_dtypes(include=[np.number])\n",
    "g = sns.clustermap(iris_matrix.corr(), annot=True, cmap='coolwarm', \n",
    "                   center=0, figsize=(8, 6))\n",
    "plt.show()"
   ]
  },
  {
   "cell_type": "markdown",
   "metadata": {},
   "source": [
    "## 🎨 Theme and Style Customization"
   ]
  },
  {
   "cell_type": "code",
   "execution_count": null,
   "metadata": {},
   "outputs": [],
   "source": [
    "# Different seaborn themes\n",
    "styles = ['darkgrid', 'whitegrid', 'dark', 'white', 'ticks']\n",
    "\n",
    "fig, axes = plt.subplots(2, 3, figsize=(18, 10))\n",
    "axes = axes.flatten()\n",
    "\n",
    "for i, style in enumerate(styles):\n",
    "    sns.set_style(style)\n",
    "    sns.scatterplot(data=iris, x='sepal_length', y='sepal_width', \n",
    "                    hue='species', ax=axes[i])\n",
    "    axes[i].set_title(f'Style: {style}')\n",
    "\n",
    "# Remove the empty subplot\n",
    "fig.delaxes(axes[5])\n",
    "\n",
    "plt.tight_layout()\n",
    "plt.show()\n",
    "\n",
    "# Reset to default\n",
    "sns.set_theme()"
   ]
  },
  {
   "cell_type": "markdown",
   "metadata": {},
   "source": [
    "## 💾 Export and Integration"
   ]
  },
  {
   "cell_type": "code",
   "execution_count": null,
   "metadata": {},
   "outputs": [],
   "source": [
    "# Create a publication-ready plot\n",
    "sns.set_theme(style=\"whitegrid\")\n",
    "plt.figure(figsize=(12, 8))\n",
    "\n",
    "# Main plot\n",
    "ax = sns.scatterplot(data=tips, x='total_bill', y='tip', \n",
    "                     hue='time', size='size', sizes=(50, 200),\n",
    "                     alpha=0.7)\n",
    "\n",
    "# Add regression line\n",
    "sns.regplot(data=tips, x='total_bill', y='tip', \n",
    "            scatter=False, color='black', ax=ax)\n",
    "\n",
    "# Customize\n",
    "ax.set_title('Restaurant Tips Analysis', fontsize=16, fontweight='bold', pad=20)\n",
    "ax.set_xlabel('Total Bill ($)', fontsize=12)\n",
    "ax.set_ylabel('Tip Amount ($)', fontsize=12)\n",
    "\n",
    "# Custom legend\n",
    "handles, labels = ax.get_legend_handles_labels()\n",
    "time_legend = plt.legend(handles[:2], labels[:2], title='Time', loc='upper left')\n",
    "size_legend = plt.legend(handles[3:], labels[3:], title='Party Size', \n",
    "                        loc='lower right', bbox_to_anchor=(1, 0))\n",
    "plt.gca().add_artist(time_legend)\n",
    "\n",
    "# Export in multiple formats\n",
    "plt.savefig('seaborn_tips_analysis.png', dpi=300, bbox_inches='tight')\n",
    "plt.savefig('seaborn_tips_analysis.pdf', bbox_inches='tight')\n",
    "\n",
    "plt.show()\n",
    "\n",
    "print(\"High-quality plots exported:\")\n",
    "print(\"- PNG (300 DPI for presentations)\")\n",
    "print(\"- PDF (vector for publications)\")"
   ]
  },
  {
   "cell_type": "markdown",
   "metadata": {},
   "source": [
    "## 📋 Seaborn Quick Reference"
   ]
  },
  {
   "cell_type": "code",
   "execution_count": null,
   "metadata": {},
   "outputs": [],
   "source": [
    "reference = \"\"\"\n",
    "SEABORN QUICK REFERENCE:\n",
    "\n",
    "Setup:\n",
    "  import seaborn as sns\n",
    "  sns.set_theme(style=\"whitegrid\")\n",
    "\n",
    "Distribution Plots:\n",
    "  sns.histplot(data, kde=True)       # Histogram with KDE\n",
    "  sns.kdeplot(data, hue='category')  # Kernel density\n",
    "  sns.rugplot(data)                  # Rug plot\n",
    "\n",
    "Relationship Plots:\n",
    "  sns.scatterplot(x, y, hue, size)   # Scatter plot\n",
    "  sns.lineplot(x, y, hue)            # Line plot\n",
    "  sns.regplot(x, y)                  # Regression plot\n",
    "\n",
    "Categorical Plots:\n",
    "  sns.boxplot(x, y)                  # Box plot\n",
    "  sns.violinplot(x, y)               # Violin plot\n",
    "  sns.barplot(x, y, estimator)       # Bar plot\n",
    "  sns.swarmplot(x, y)                # Swarm plot\n",
    "\n",
    "Matrix Plots:\n",
    "  sns.heatmap(data, annot=True)      # Heatmap\n",
    "  sns.clustermap(data)               # Clustered heatmap\n",
    "\n",
    "Multi-plot Grids:\n",
    "  sns.pairplot(data, hue)            # All pairwise plots\n",
    "  sns.jointplot(x, y, kind)          # Joint distribution\n",
    "  sns.FacetGrid(data, col, row)      # Custom grid\n",
    "\n",
    "Styling:\n",
    "  sns.set_style('whitegrid')         # Theme\n",
    "  sns.set_palette('deep')            # Color palette\n",
    "\"\"\"\n",
    "\n",
    "print(reference)\n",
    "print(\"\\nSeaborn statistical visualization mastery complete! 📊\")"
   ]
  }
 ],
 "metadata": {
  "kernelspec": {
   "display_name": "Python 3",
   "language": "python",
   "name": "python3"
  },
  "language_info": {
   "codemirror_mode": {
    "name": "ipython",
    "version": 3
   },
   "file_extension": ".py",
   "mimetype": "text/x-python",
   "name": "python",
   "nbconvert_exporter": "python",
   "pygments_lexer": "ipython3",
   "version": "3.8.5"
  }
 },
 "nbformat": 4,
 "nbformat_minor": 4
}
